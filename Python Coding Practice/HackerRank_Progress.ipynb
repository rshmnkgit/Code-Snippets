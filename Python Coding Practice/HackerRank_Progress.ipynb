{
 "cells": [
  {
   "cell_type": "code",
   "execution_count": null,
   "metadata": {},
   "outputs": [],
   "source": [
    "# Check if the given number is a prime number\n",
    "\n",
    "import math\n",
    "def isPrime(n):\n",
    "    prime = True\n",
    "    for i in range(2, int(math.sqrt(n))+1):\n",
    "        if (n%i == 0):\n",
    "            prime = False\n",
    "    return prime"
   ]
  },
  {
   "cell_type": "code",
   "execution_count": null,
   "metadata": {},
   "outputs": [],
   "source": [
    "# Sort the elements of an array\n",
    "\n",
    "def sortArray(arr):\n",
    "    l = len(arr) + 1\n",
    "    for i in range(0,l+1):\n",
    "        print (i, end=\" \")\n",
    "        if (arr[i] > arr[i+1]):\n",
    "            arr[i], arr[i+1] = arr[i+1], arr[i]\n",
    "    return arr\n",
    "\n",
    "print(sortArray([9,3,5,2,7,1,0,4]))"
   ]
  },
  {
   "cell_type": "code",
   "execution_count": null,
   "metadata": {},
   "outputs": [],
   "source": [
    "# Fibonacci series"
   ]
  },
  {
   "cell_type": "code",
   "execution_count": null,
   "metadata": {},
   "outputs": [],
   "source": [
    "# Regular function\n",
    "def fibonacci():\n",
    "    a=0 \n",
    "    b=1\n",
    "    print(a,b, end=\" \")\n",
    "    c=0\n",
    "    for i in range(0,100):    \n",
    "        c = a+b\n",
    "        print (c, end=\" \")\n",
    "        a = b\n",
    "        b = c\n",
    "\n",
    "# Recurssive function\n",
    "def fibonacci1(n):\n",
    "    if (n <= 1):\n",
    "        return n\n",
    "    else:\n",
    "        return (fibonacci1(n-1) + fibonacci1(n-2))\n",
    "\n",
    "for i in range(10):\n",
    "    print(fibonacci1(i))"
   ]
  },
  {
   "cell_type": "code",
   "execution_count": null,
   "metadata": {},
   "outputs": [],
   "source": [
    "# Maximum sum of the hourglasses in a matrix"
   ]
  },
  {
   "cell_type": "code",
   "execution_count": null,
   "metadata": {},
   "outputs": [],
   "source": [
    "#!/bin/python3\n",
    "import math\n",
    "import os\n",
    "import random\n",
    "import re\n",
    "import sys\n",
    "\n",
    "def maxHourglassSum(numArr):\n",
    "    sumarr = []\n",
    "    hgsum = 0\n",
    "    for i in range(0,len(numArr)-2):\n",
    "        for j in range(0, len(numArr)-2):\n",
    "            hgsum = numArr[i][j] + numArr[i][j+1] + numArr[i][j+2] + numArr[i+1][j+1] + numArr[i+2][j] + numArr[i+2][j+1] + numArr[i+2][j+2]\n",
    "            sumarr.append(hgsum)\n",
    "    maxsum=max(sumarr)    \n",
    "    return maxsum\n",
    "\n",
    "if __name__ == '__main__':\n",
    "    arr = []\n",
    "\n",
    "    for _ in range(6):\n",
    "        arr.append(list(map(int, input().rstrip().split())))\n",
    "\n",
    "    print(maxHourglassSum(arr))"
   ]
  },
  {
   "cell_type": "code",
   "execution_count": null,
   "metadata": {},
   "outputs": [],
   "source": [
    "n = int(input())\n",
    "name_numbers = [input().split() for _ in range(n)]\n",
    "phone_book = {k: v for k,v in name_numbers}\n",
    "while True:\n",
    "    try:\n",
    "        name = input()\n",
    "        if name in phone_book:\n",
    "            print('%s=%s' % (name, phone_book[name]))\n",
    "        else:\n",
    "            print('Not found')\n",
    "    except:\n",
    "        break"
   ]
  },
  {
   "cell_type": "code",
   "execution_count": null,
   "metadata": {},
   "outputs": [],
   "source": [
    "# Complete the compareTriplets function below.\n",
    "def compareTriplets(a, b):\n",
    "    score = [0,0]\n",
    "    for i in range(0,3):\n",
    "        if (a[i] > b[i]):\n",
    "            score[0] += 1\n",
    "        elif (a[i] < b[i]):\n",
    "            score[1] += 1\n",
    "    return score"
   ]
  },
  {
   "cell_type": "code",
   "execution_count": null,
   "metadata": {},
   "outputs": [],
   "source": [
    "def miniMaxSum(arr):\n",
    "    minsum = 0\n",
    "    maxsum = 0\n",
    "    for i in range(0,5):\n",
    "        sum = 0\n",
    "        for j in range(0,5):\n",
    "            if (i != j):\n",
    "                sum += arr[j]\n",
    "        if (i==0):\n",
    "            minsum = sum\n",
    "            maxsum = sum\n",
    "        else:\n",
    "            if (sum < minsum):\n",
    "                minsum = sum\n",
    "            elif (sum > maxsum):\n",
    "                maxsum = sum\n",
    "    print(f\"{minsum} {maxsum}\");"
   ]
  },
  {
   "cell_type": "code",
   "execution_count": null,
   "metadata": {},
   "outputs": [],
   "source": [
    "def amIOld(age):\n",
    "    # Do some computations in here and print out the correct statement to the console \n",
    "    if (age > 18) :\n",
    "        print(\"You are old\")\n",
    "    elif (age >=13):\n",
    "        print(\"You are a teenager\")\n",
    "    else:\n",
    "        print(\"You are young\")"
   ]
  },
  {
   "cell_type": "code",
   "execution_count": null,
   "metadata": {},
   "outputs": [],
   "source": [
    "# Print Even and odd positioned letters in a string\n",
    "def oddevens():\n",
    "    ntest = int(input())\n",
    "    input_string = []\n",
    "    for i in range(0,ntest):\n",
    "        input_string.append(input())\n",
    "\n",
    "\n",
    "    for t in range(0,ntest):\n",
    "        mystr = input_string[t]\n",
    "        evens =''\n",
    "        odds = ''\n",
    "        for i in range(0, len(mystr)):\n",
    "            if (i%2):\n",
    "                odds = str(odds) + str(mystr[i])   #odds.join(mystr[i])\n",
    "            else:\n",
    "                evens = str(evens) + str(mystr[i])\n",
    "        print(f\"{evens} {odds}\")"
   ]
  },
  {
   "cell_type": "code",
   "execution_count": null,
   "metadata": {},
   "outputs": [],
   "source": [
    "def count_substring(string, sub_string):\n",
    "    found = True\n",
    "    count = 0\n",
    "    l = len(sub_string)\n",
    "    mystr = string\n",
    "\n",
    "    while (found==True):\n",
    "        found=False\n",
    "        # print(found)\n",
    "        p = mystr.find(sub_string)\n",
    "        print(p)\n",
    "        if (p >=0):\n",
    "            found=True\n",
    "            count += 1\n",
    "            mystr = mystr[p+l:]\n",
    "        else:\n",
    "            found=False\n",
    "            break\n",
    "        print(mystr)\n",
    "            \n",
    "    return count"
   ]
  },
  {
   "cell_type": "markdown",
   "metadata": {},
   "source": [
    "- string.isalnum()  This method checks if all the characters of a string are alpha-numeric (A_Z / a-z / 0-9).\n",
    "- string.isalpha()  This method checks if all the characters of a string are alphabets (A_Z / a-z).\n",
    "- string.isdigit()  This method checks if all the characters of a string are numeric (0-9).\n",
    "- string.islower()  This method checks if all the characters of a string are in lowercas (a-z).\n",
    "- string.isupper()  This method checks if all the characters of a string are in uppercase (A_Z)."
   ]
  },
  {
   "cell_type": "code",
   "execution_count": null,
   "metadata": {},
   "outputs": [],
   "source": [
    "def charsInString():\n",
    "    s = input()\n",
    "    al = an = dg = lr = up = False\n",
    "    for ch in s:\n",
    "        if(ch.isalnum()):\n",
    "            al = True\n",
    "        if(ch.isalpha()):\n",
    "            an = True\n",
    "        if(ch.isdigit()):\n",
    "            dg = True\n",
    "        if(ch.isupper()):\n",
    "            up = True\n",
    "        if(ch.islower()):\n",
    "            lr = True\n",
    "    print(f\"{al}\\n{an}\\n{dg}\\n{lr}\\n{up}\")\n",
    "\n",
    "    # Same as above using any() \n",
    "    print(any([char.isalnum() for char in s]))\n",
    "    print(any([char.isalpha() for char in s]))\n",
    "    print(any([char.isdigit() for char in s]))\n",
    "    print(any([char.islower() for char in s]))\n",
    "    print(any([char.isupper() for char in s]))\n",
    "\n",
    "if __name__ == '__main__':\n",
    "    string = input().strip()\n",
    "    sub_string = input().strip()\n",
    "    \n",
    "    count = count_substring(string, sub_string)\n",
    "    print(count)"
   ]
  }
 ],
 "metadata": {
  "kernelspec": {
   "display_name": "Python 3",
   "language": "python",
   "name": "python3"
  },
  "language_info": {
   "codemirror_mode": {
    "name": "ipython",
    "version": 3
   },
   "file_extension": ".py",
   "mimetype": "text/x-python",
   "name": "python",
   "nbconvert_exporter": "python",
   "pygments_lexer": "ipython3",
   "version": "3.6.10"
  }
 },
 "nbformat": 4,
 "nbformat_minor": 4
}
