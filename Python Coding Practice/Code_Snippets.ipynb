{
 "cells": [
  {
   "cell_type": "code",
   "execution_count": null,
   "metadata": {},
   "outputs": [],
   "source": [
    "def format_number_as_percentage():\n",
    "    x = 0.25\n",
    "    y = -0.25\n",
    "    print(\"\\nOriginal Number: \", x)\n",
    "    print(\"Formatted Number with percentage: \"+\"{:.2%}\".format(x))\n",
    "    print(\"Original Number: \", y)\n",
    "    print(\"Formatted Number with percentage: \"+\"{:.2%}\".format(y))\n",
    "    print()\n",
    "\n",
    "format_number_as_percentage()"
   ]
  },
  {
   "cell_type": "code",
   "execution_count": null,
   "metadata": {},
   "outputs": [],
   "source": [
    "from numpy import prod\n",
    "def find_difference(a, b):\n",
    "    return abs(prod(a) - prod(b))\n",
    "\n",
    "from operator import mul\n",
    "from functools import reduce\n",
    "def find_difference(a, b):\n",
    "    return abs(reduce(mul, a) - reduce(mul, b))\n",
    "\n",
    "find_difference = lambda a,b,p=__import__(\"numpy\").prod: abs(p(a)-p(b))\n",
    "\n",
    "find_difference = lambda (a, b, c), (x, y, z): abs(a * b * c - x * y * z)\n",
    "\n",
    "from numpy import prod\n",
    "find_difference = lambda a, b: abs(prod(a) - prod(b))"
   ]
  },
  {
   "cell_type": "code",
   "execution_count": 15,
   "metadata": {},
   "outputs": [
    {
     "data": {
      "text/plain": [
       "<regex.Match object; span=(0, 1), match='a'>"
      ]
     },
     "execution_count": 15,
     "metadata": {},
     "output_type": "execute_result"
    }
   ],
   "source": [
    "import regex as re\n",
    "s = 'abc(mno)pqr'\n",
    "x = re.match('(.)', s)\n",
    "x"
   ]
  },
  {
   "cell_type": "code",
   "execution_count": 13,
   "metadata": {},
   "outputs": [],
   "source": [
    "def bubblesort(arr):\n",
    "    count = 0\n",
    "    loop = 0\n",
    "    for i in range(len(arr)):\n",
    "        for j in range(i+1, len(arr)):\n",
    "            loop = loop+1\n",
    "            print(i,j, \" : \", arr[i],arr[j], end=\" :: \")\n",
    "            if arr[i]>arr[j]:\n",
    "                count=count+1\n",
    "                arr[i], arr[j] = arr[j], arr[i]\n",
    "                \n",
    "            print(arr[i],arr[j])\n",
    "    print(loop, count)\n",
    "    return arr\n",
    "\n"
   ]
  },
  {
   "cell_type": "code",
   "execution_count": 14,
   "metadata": {},
   "outputs": [
    {
     "name": "stdout",
     "output_type": "stream",
     "text": [
      "0 1  :  2 1 :: 1 2\n",
      "0 2  :  1 4 :: 1 4\n",
      "0 3  :  1 7 :: 1 7\n",
      "0 4  :  1 3 :: 1 3\n",
      "0 5  :  1 8 :: 1 8\n",
      "0 6  :  1 9 :: 1 9\n",
      "0 7  :  1 5 :: 1 5\n",
      "0 8  :  1 10 :: 1 10\n",
      "1 2  :  2 4 :: 2 4\n",
      "1 3  :  2 7 :: 2 7\n",
      "1 4  :  2 3 :: 2 3\n",
      "1 5  :  2 8 :: 2 8\n",
      "1 6  :  2 9 :: 2 9\n",
      "1 7  :  2 5 :: 2 5\n",
      "1 8  :  2 10 :: 2 10\n",
      "2 3  :  4 7 :: 4 7\n",
      "2 4  :  4 3 :: 3 4\n",
      "2 5  :  3 8 :: 3 8\n",
      "2 6  :  3 9 :: 3 9\n",
      "2 7  :  3 5 :: 3 5\n",
      "2 8  :  3 10 :: 3 10\n",
      "3 4  :  7 4 :: 4 7\n",
      "3 5  :  4 8 :: 4 8\n",
      "3 6  :  4 9 :: 4 9\n",
      "3 7  :  4 5 :: 4 5\n",
      "3 8  :  4 10 :: 4 10\n",
      "4 5  :  7 8 :: 7 8\n",
      "4 6  :  7 9 :: 7 9\n",
      "4 7  :  7 5 :: 5 7\n",
      "4 8  :  5 10 :: 5 10\n",
      "5 6  :  8 9 :: 8 9\n",
      "5 7  :  8 7 :: 7 8\n",
      "5 8  :  7 10 :: 7 10\n",
      "6 7  :  9 8 :: 8 9\n",
      "6 8  :  8 10 :: 8 10\n",
      "7 8  :  9 10 :: 9 10\n",
      "36 6\n"
     ]
    },
    {
     "data": {
      "text/plain": [
       "[1, 2, 3, 4, 5, 7, 8, 9, 10]"
      ]
     },
     "execution_count": 14,
     "metadata": {},
     "output_type": "execute_result"
    }
   ],
   "source": [
    "numarr = [2,1,4,7,3,8,9,5,10]\n",
    "bubblesort(numarr)"
   ]
  },
  {
   "cell_type": "markdown",
   "metadata": {},
   "source": [
    "## Spiral matrix"
   ]
  },
  {
   "cell_type": "code",
   "execution_count": 80,
   "metadata": {},
   "outputs": [
    {
     "name": "stdout",
     "output_type": "stream",
     "text": [
      "[[2, 4, 6, 8], [5, 9, 12, 16], [2, 11, 5, 9], [3, 2, 1, 8]]\n"
     ]
    }
   ],
   "source": [
    "# mymatrix = [[1, 2, 3, 4, 5, 6, 7, 8],\n",
    "#              [22,23,24,25,26,27,28,9],\n",
    "#              [21,36,37,38,39,40,29,10],\n",
    "#              [20,35,34,33,32,31,30,11],\n",
    "#              [19,18,17,16,15,14,13,12\n",
    "#             ]]\n",
    "\n",
    "# mymatrix = [[1, 2, 3, 4, 5, 6, 7, 8],\n",
    "#             [24,25,26,27,28,29,30,9],\n",
    "#             [23,40,41,42,43,44,31,10],\n",
    "#             [22,39,48,47,46,45,32,11],\n",
    "#             [21,38,37,36,35,34,33,12],\n",
    "#             [20,19,18,17,16,15,14,13\n",
    "#             ]]\n",
    "\n",
    "mymatrix=[[2,4,6,8],\n",
    "          [5,9,12,16],\n",
    "          [2,11,5,9],\n",
    "          [3,2,1,8]\n",
    "         ]\n",
    "print(mymatrix)"
   ]
  },
  {
   "cell_type": "code",
   "execution_count": 81,
   "metadata": {},
   "outputs": [
    {
     "ename": "IndexError",
     "evalue": "list index out of range",
     "output_type": "error",
     "traceback": [
      "\u001b[1;31m---------------------------------------------------------------------------\u001b[0m",
      "\u001b[1;31mIndexError\u001b[0m                                Traceback (most recent call last)",
      "\u001b[1;32m<ipython-input-81-bb5e83a3bfce>\u001b[0m in \u001b[0;36m<module>\u001b[1;34m\u001b[0m\n\u001b[0;32m      1\u001b[0m \u001b[1;32mfor\u001b[0m \u001b[0mi\u001b[0m \u001b[1;32min\u001b[0m \u001b[0mrange\u001b[0m\u001b[1;33m(\u001b[0m\u001b[1;36m7\u001b[0m\u001b[1;33m,\u001b[0m\u001b[1;33m-\u001b[0m\u001b[1;36m1\u001b[0m\u001b[1;33m,\u001b[0m\u001b[1;33m-\u001b[0m\u001b[1;36m1\u001b[0m\u001b[1;33m)\u001b[0m\u001b[1;33m:\u001b[0m\u001b[1;33m\u001b[0m\u001b[1;33m\u001b[0m\u001b[0m\n\u001b[1;32m----> 2\u001b[1;33m     \u001b[0mprint\u001b[0m\u001b[1;33m(\u001b[0m\u001b[0mmymatrix\u001b[0m\u001b[1;33m[\u001b[0m\u001b[1;36m0\u001b[0m\u001b[1;33m]\u001b[0m\u001b[1;33m[\u001b[0m\u001b[0mi\u001b[0m\u001b[1;33m]\u001b[0m\u001b[1;33m)\u001b[0m\u001b[1;33m\u001b[0m\u001b[1;33m\u001b[0m\u001b[0m\n\u001b[0m",
      "\u001b[1;31mIndexError\u001b[0m: list index out of range"
     ]
    }
   ],
   "source": [
    "for i in range(7,-1,-1):\n",
    "    print(mymatrix[0][i])"
   ]
  },
  {
   "cell_type": "code",
   "execution_count": 83,
   "metadata": {},
   "outputs": [
    {
     "name": "stdout",
     "output_type": "stream",
     "text": [
      "2 4 6 8 16 9 8 1 2 3 2 5 9 12 5 11 "
     ]
    }
   ],
   "source": [
    "# matrix, start_row, start_col, end_row, end_col\n",
    "def spiralmatrix(arr, sr, sc, er, ec):\n",
    "\n",
    "#     print(\"\\n\", sr,er, \":\", sc,ec)\n",
    "\n",
    "    if sr < er and sc < ec:   \n",
    "        for i in range(sc, ec+1):\n",
    "            print(arr[sr][i], end=\" \")\n",
    "\n",
    "        for j in range(sr+1, er+1):\n",
    "            print(arr[j][ec], end=\" \")\n",
    "     \n",
    "        for k in range(ec-1, sc-1, -1):\n",
    "            print(arr[er][k], end=\" \")\n",
    "\n",
    "        for l in range(er-1, sr, -1):\n",
    "            print(arr[l][sc], end=\" \")\n",
    "\n",
    "        spiralmatrix(mymatrix, sr+1, sc+1, er-1, ec-1)    \n",
    "    \n",
    "\n",
    "lastrow = len(mymatrix)-1\n",
    "lastcol = len(mymatrix[0])-1\n",
    "# print(lastrow, lastcol)\n",
    "\n",
    "spiralmatrix(mymatrix, 0,0, lastrow, lastcol)"
   ]
  },
  {
   "cell_type": "code",
   "execution_count": 84,
   "metadata": {},
   "outputs": [
    {
     "ename": "SyntaxError",
     "evalue": "invalid syntax (<ipython-input-84-9ca75c329abe>, line 1)",
     "output_type": "error",
     "traceback": [
      "\u001b[1;36m  File \u001b[1;32m\"<ipython-input-84-9ca75c329abe>\"\u001b[1;36m, line \u001b[1;32m1\u001b[0m\n\u001b[1;33m    countTinyPairs (Task 2 of 4)\u001b[0m\n\u001b[1;37m                         ^\u001b[0m\n\u001b[1;31mSyntaxError\u001b[0m\u001b[1;31m:\u001b[0m invalid syntax\n"
     ]
    }
   ],
   "source": [
    "countTinyPairs (Task 2 of 4)\n",
    "0:50:03\n",
    "Codewriting\n",
    "\n",
    "You are given two arrays of integers a and b of the same length, and an integer k. We will be iterating through array a from left to right, and simultaneously through array b from right to left, and looking at pairs (x, y), where x is from a and y is from b. Such a pair is called tiny if the concatenation xy is strictly less than k.\n",
    "\n",
    "Your task is to return the number of tiny pairs that you'll encounter during the simultaneous iteration through a and b.\n",
    "\n",
    "Example\n",
    "\n",
    "For a = [1, 2, 3], b = [1, 2, 3], and k = 31, the output should be\n",
    "countTinyPairs(a, b, k) = 2.\n",
    "\n",
    "We're considering the following pairs during iteration:\n",
    "\n",
    "(1, 3). Their concatenation equals 13, which is less than 31, so the pair is tiny;\n",
    "(2, 2). Their concatenation equals 22, which is less than 31, so the pair is tiny;\n",
    "(3, 1). Their concatenation equals 31, which is not less than 31, so the pair is not tiny.\n",
    "As you can see, there are 2 tiny pairs during the iteration, so the answer is 2.\n",
    "\n",
    "For a = [16, 1, 4, 2, 14], b = [7, 11, 2, 0, 15], and k = 743, the output should be\n",
    "countTinyPairs(a, b, k) = 4.\n",
    "\n",
    "We're considering the following pairs during iteration:\n",
    "\n",
    "(16, 15). Their concatenation equals 1615, which is greater than 743, so the pair is not tiny;\n",
    "(1, 0). Their concatenation equals 10, which is less than 743, so the pair is tiny;\n",
    "(4, 2). Their concatenation equals 42, which is less than 743, so the pair is tiny.\n",
    "(2, 11). Their concatenation equals 211, which is less than 743, so the pair is tiny;\n",
    "(14, 7). Their concatenation equals 147, which is less than 743, so the pair is tiny.\n",
    "There are 4 tiny pairs during the iteration, so the answer is 4.\n",
    "\n",
    "Input/Output\n",
    "\n",
    "[execution time limit] 4 seconds (py3)\n",
    "\n",
    "[input] array.integer a\n",
    "\n",
    "An array of non-negative integers.\n",
    "\n",
    "Guaranteed constraints:\n",
    "0 ≤ a.length ≤ 105,\n",
    "0 ≤ a[i] ≤ 104.\n",
    "\n",
    "[input] array.integer b\n",
    "\n",
    "An array of non-negative integers.\n",
    "\n",
    "Guaranteed constraints:\n",
    "b.length = a.length,\n",
    "0 ≤ b[i] ≤ 104.\n",
    "\n",
    "[input] integer k\n",
    "\n",
    "An integer to compare concatenated pairs with.\n",
    "\n",
    "Guaranteed constraints:\n",
    "0 ≤ k ≤ 109.\n",
    "\n",
    "[output] integer\n",
    "\n",
    "The number of tiny pairs during the iteration.\n",
    "\n",
    "[Python 3] Syntax Tips\n",
    "\n",
    "# Prints help message to the console\n",
    "# Returns a string\n",
    "def helloWorld(name):\n",
    "    print \"This prints to the console when you Run Tests\"\n",
    "    return \"Hello, \" + name\n",
    "\n",
    "Saved\n",
    "1924310578611\n",
    "\n",
    "TESTS\n",
    "CUSTOM TESTS\n",
    "Tests passed: 8/8. Click Submit to run the full test suite and save your solution.\n",
    "Test 1\n",
    "Input:\n",
    "a: [1, 2, 3]\n",
    "b: [1, 2, 3]\n",
    "k: 31\n",
    "Output:\n",
    "2\n",
    "Expected Output:\n",
    "2\n",
    "Console Output:\n",
    "13\n",
    "22\n",
    "31\n",
    "Error Output:\n",
    "Empty\n",
    "Test 2\n",
    "Test 3\n",
    "Test 4\n",
    "Test 5\n",
    "Test 6\n",
    "Test 7\n",
    "Test 8\n",
    "Test 9\n",
    "Test 10\n",
    "Test 11\n",
    "Test 12\n",
    "Test 13\n",
    "Test 14\n",
    "Test 15\n",
    "Test 16\n",
    "MORE\n",
    "0/300\n",
    "x, hint\n"
   ]
  },
  {
   "cell_type": "code",
   "execution_count": null,
   "metadata": {},
   "outputs": [],
   "source": [
    "def countTinyPairs(a, b, k):\n",
    "    count = 0\n",
    "    l = len(a)\n",
    "    for i in range(0,l):\n",
    "        n = str(a[i])+str(b[l-1-i])\n",
    "        print(n)\n",
    "        if int(n)<k:\n",
    "            count = count + 1\n",
    "    \n",
    "    return count        \n"
   ]
  },
  {
   "cell_type": "code",
   "execution_count": null,
   "metadata": {},
   "outputs": [],
   "source": [
    "subarraysCountBySum (Task 4 of 4)\n",
    "0:12:25\n",
    "Codewriting\n",
    "\n",
    "Given an array of integers arr, a positive integer k, and an integer s, your task is to find the number of non-empty \n",
    "contiguous subarrays with length not greater than k and with a sum equal to s.\n",
    "\n",
    "Example\n",
    "\n",
    "For arr = [1, 0], k = 2, and s = 1, the output should be subarraysCountBySum(arr, k, s) = 2.\n",
    "\n",
    "There is 1 subarray among the contiguous subarrays of length 1 with sum equal to s = 1, and it is [1],\n",
    "There is 1 subarray among the contiguous subarrays of length 2 with sum equal to s = 1, and it is [1, 0].\n",
    "So the answer is 2.\n",
    "\n",
    "For arr = [1, 2, 4, -1, 6, 1], k = 3, and s = 6, the output should be subarraysCountBySum(arr, k, s) = 3.\n",
    "\n",
    "There is 1 subarray among the contiguous subarrays of length 1 with sum equal to s = 6, and it is [6],\n",
    "There is 1 subarray among the contiguous subarrays of length 2 with sum equal to s = 6, and it is [2, 4],\n",
    "There is 1 subarray among the contiguous subarrays of length 3 with sum equal to s = 6, and it is [-1, 6, 1].\n",
    "Note that the subarray [1, 2, 4, -1] would also sum to s, but its length is greater than k, so it's not applicable.\n",
    "\n",
    "So the answer is 3.\n",
    "\n",
    "Input/Output\n",
    "\n",
    "[execution time limit] 4 seconds (py3)\n",
    "\n",
    "[input] array.integer arr\n",
    "\n",
    "An array of integers.\n",
    "\n",
    "Guaranteed constraints:\n",
    "2 ≤ arr.length ≤ 105,\n",
    "-109 ≤ arr[i] ≤ 109.\n",
    "\n",
    "[input] integer k\n",
    "\n",
    "A positive integer denoting the maximal length of the contiguous subarrays we'll be considering.\n",
    "\n",
    "Guaranteed constraints:\n",
    "1 ≤ k ≤ arr.length.\n",
    "\n",
    "[input] integer64 s\n",
    "\n",
    "An integer representing the sum we're looking for within the contiguous subarrays. Note, that this integer may not fit in 32-bit type and thus is provided in a 64-bit type.\n",
    "\n",
    "Guaranteed constraints:\n",
    "-1011 ≤ s ≤ 1011.\n",
    "\n",
    "[output] integer64\n",
    "\n",
    "The number of contiguous subarrays with the given sum.\n",
    "\n",
    "[Python 3] Syntax Tips\n",
    "\n",
    "# Prints help message to the console\n",
    "# Returns a string\n",
    "def helloWorld(name):\n",
    "    print \"This prints to the console when you Run Tests\"\n",
    "    return \"Hello, \" + name\n",
    "\n",
    "Saved\n",
    "9101112152216131719202118148232425\n",
    "    for i in range(0, len(arr)):        \n",
    "        \n",
    "        x=i\n",
    "        \n",
    "        for j in range(0,k):\n",
    "            sum += arr[x]\n",
    "            x += 1\n",
    "            print(x, arr[x], sum)\n",
    "            if sum==s: \n",
    "                count=count+1\n",
    "\n",
    "\n",
    "TESTS\n",
    "CUSTOM TESTS\n",
    "RESULTS\n",
    "Tests passed: 0/10. Execution error on test 1: Your program had a runtime error.\n",
    "Traceback (most recent call last):\n",
    "  File main.py3 in the pre-written template, in getUserOutputs\n",
    "    userOutput = _rungmpon(testInputs[i])\n",
    "  File main.py3 in the pre-written template, in _rungmpon\n",
    "    return subarraysCountBySum(*_fArgs_zulyllysixow)\n",
    "  File main.py3 on line 17, in subarraysCountBySum\n",
    "    print(x, arr[x], sum)\n",
    "IndexError: list index out of range\n",
    "1 0 1\n",
    "Sample tests:\n",
    "0/10\n",
    "MORE\n",
    "0/300\n",
    "values, hint (occurred again)\n"
   ]
  },
  {
   "cell_type": "code",
   "execution_count": null,
   "metadata": {},
   "outputs": [],
   "source": [
    "def subarraysCountBySum(arr, k, s):\n",
    "    count = 0\n",
    "    # for num in arr:\n",
    "    #     print(num, s, k)\n",
    "    #     if num==s:\n",
    "    #         count += 1\n",
    "    # print(\"count \",count)\n",
    "    i=0  \n",
    "    sum = 0      \n",
    "    c = 0\n",
    "    for i in range(0, len(arr)):        \n",
    "        \n",
    "        x=i\n",
    "        \n",
    "        \n",
    "        for j in range(0,k):\n",
    "            sum += arr[x]\n",
    "            x += 1\n",
    "            print(x, arr[x], sum)\n",
    "            if sum==s: \n",
    "                count=count+1\n",
    "                break\n",
    "        \n",
    "\n",
    "    return count\n",
    "\n",
    "\n",
    "\n",
    "arr: [1, 2, 4, -1, 6, 1]\n",
    "    \n",
    "    arr: [-468, 1254, 3, -1734, 1737, -1581, 442, 3, 1136, -1143, 1146, -1260, -321, 208, -351, 122, 196, 1406, -1136, 618]\n",
    "k: 20\n",
    "s: 3\n",
    "Output:\n",
    "undefined\n",
    "Expected Output:\n",
    "11\n",
    "\n",
    "\n",
    "\n",
    "arr: [854, -1307, 1212, -584, -1061, 1522, -1034, 820, -765, 1232, -412, -875, 229, 581, 184, -64, -1294, 825, -170, -541, -117, 820, -765, 1177, 244, -1471, 53, 762, 120, -984]\n",
    "k: 20\n",
    "s: 55\n",
    "Output:\n",
    "undefined\n",
    "Expected Output:\n",
    "8"
   ]
  },
  {
   "cell_type": "code",
   "execution_count": 136,
   "metadata": {},
   "outputs": [
    {
     "data": {
      "text/plain": [
       "11"
      ]
     },
     "execution_count": 136,
     "metadata": {},
     "output_type": "execute_result"
    }
   ],
   "source": [
    "def subarraysCountBySum(arr, k, s):\n",
    "    count = 0\n",
    "\n",
    "    for i in range(0,len(arr)):\n",
    "        for j in range(i,len(arr)):\n",
    "            summ = 0\n",
    "            subarr = arr[i:j]\n",
    "            l = len(subarr)\n",
    "#             print(subarr)\n",
    "            summ = sum(subarr)\n",
    "#             print(summ)\n",
    "            if summ == s and l<k:\n",
    "                count += 1\n",
    "    return count\n",
    "\n",
    "\n",
    "arr = [-468, 1254, 3, -1734, 1737, -1581, 442, 3, 1136, -1143, 1146, -1260, -321, 208, -351, 122, 196, 1406, -1136, 618]\n",
    "k = 20\n",
    "s = 3\n",
    "\n",
    "# arr = [1, 2, 4, -1, 6, 1]\n",
    "subarraysCountBySum(arr,k,s)"
   ]
  },
  {
   "cell_type": "code",
   "execution_count": 126,
   "metadata": {},
   "outputs": [
    {
     "data": {
      "text/plain": [
       "[1254,\n",
       " 3,\n",
       " -1734,\n",
       " 1737,\n",
       " -1581,\n",
       " 442,\n",
       " 3,\n",
       " 1136,\n",
       " -1143,\n",
       " 1146,\n",
       " -1260,\n",
       " -321,\n",
       " 208,\n",
       " -351,\n",
       " 122,\n",
       " 196,\n",
       " 1406,\n",
       " -1136,\n",
       " 618]"
      ]
     },
     "execution_count": 126,
     "metadata": {},
     "output_type": "execute_result"
    }
   ],
   "source": [
    "arr = [-468, 1254, 3, -1734, 1737, -1581, 442, 3, 1136, -1143, 1146, -1260, -321, 208, -351, 122, 196, 1406, -1136, 618]\n",
    "\n",
    "arr[1:]"
   ]
  },
  {
   "cell_type": "code",
   "execution_count": 117,
   "metadata": {},
   "outputs": [
    {
     "data": {
      "text/plain": [
       "False"
      ]
     },
     "execution_count": 117,
     "metadata": {},
     "output_type": "execute_result"
    }
   ],
   "source": [
    "a = ['foo', 'bar', 'baz', 'qux', 'quux', 'corge']\n",
    "a[:] is a"
   ]
  },
  {
   "cell_type": "code",
   "execution_count": 118,
   "metadata": {},
   "outputs": [
    {
     "data": {
      "text/plain": [
       "['quux', 'baz', 'foo']"
      ]
     },
     "execution_count": 118,
     "metadata": {},
     "output_type": "execute_result"
    }
   ],
   "source": [
    "a[4::-2]"
   ]
  },
  {
   "cell_type": "code",
   "execution_count": 119,
   "metadata": {},
   "outputs": [
    {
     "data": {
      "text/plain": [
       "'foo'"
      ]
     },
     "execution_count": 119,
     "metadata": {},
     "output_type": "execute_result"
    }
   ],
   "source": [
    "a[-6]"
   ]
  },
  {
   "cell_type": "code",
   "execution_count": 120,
   "metadata": {},
   "outputs": [
    {
     "data": {
      "text/plain": [
       "['bar', 'baz']"
      ]
     },
     "execution_count": 120,
     "metadata": {},
     "output_type": "execute_result"
    }
   ],
   "source": [
    "a[-5:-3]"
   ]
  },
  {
   "cell_type": "code",
   "execution_count": 124,
   "metadata": {},
   "outputs": [
    {
     "data": {
      "text/plain": [
       "'qux'"
      ]
     },
     "execution_count": 124,
     "metadata": {},
     "output_type": "execute_result"
    }
   ],
   "source": [
    "max(a[2:4] + ['grault'])"
   ]
  },
  {
   "cell_type": "code",
   "execution_count": 145,
   "metadata": {},
   "outputs": [
    {
     "name": "stdout",
     "output_type": "stream",
     "text": [
      "2.5\n"
     ]
    },
    {
     "data": {
      "text/plain": [
       "3"
      ]
     },
     "execution_count": 145,
     "metadata": {},
     "output_type": "execute_result"
    }
   ],
   "source": [
    "import math\n",
    "n=10\n",
    "s=4\n",
    "print(n/s)\n",
    "math.ceil(n/s)"
   ]
  },
  {
   "cell_type": "code",
   "execution_count": 174,
   "metadata": {},
   "outputs": [
    {
     "data": {
      "text/plain": [
       "51574523448"
      ]
     },
     "execution_count": 174,
     "metadata": {},
     "output_type": "execute_result"
    }
   ],
   "source": [
    "s=\"kmretasscityylpdhuwjirnqimlkcgxubxmsxpypgzxtenweirknjtasxtvxemtwxuarabssvqdnktqadhyktagjxoanknhgilnm\"\n",
    "n=736778906400\n",
    "\n",
    "def repeatedString(s, n):\n",
    "    if s=='a':\n",
    "        return n\n",
    "    \n",
    "    c = s.count('a')\n",
    "    l = n//len(s)\n",
    "    m = n - (l*len(s))\n",
    "    c1 = s.count('a',0,m)\n",
    "    count = c*l + c1\n",
    "    return count\n",
    "\n",
    "\n",
    "repeatedString(s,n)"
   ]
  },
  {
   "cell_type": "code",
   "execution_count": 30,
   "metadata": {},
   "outputs": [
    {
     "name": "stdout",
     "output_type": "stream",
     "text": [
      "0 -1 0 4 4 (3, 4)\n",
      "0 -1 0 3 4 (2, 4)\n",
      "0 -1 0 2 4 (1, 4)\n",
      "0 -1 0 1 4 (0, 4)\n",
      "0 -1 0 0 4 (-1, 4)\n",
      "1 0 -1 0 3 (0, 2)\n",
      "1 0 -1 0 2 (0, 1)\n",
      "1 0 -1 0 1 (0, 0)\n",
      "1 0 -1 0 0 (0, -1)\n",
      "2 1 0 1 0 (2, 0)\n",
      "2 1 0 2 0 (3, 0)\n",
      "2 1 0 3 0 (4, 0)\n",
      "2 1 0 4 0 (5, 0)\n",
      "3 0 1 4 1 (4, 2)\n",
      "3 0 1 4 2 (4, 3)\n",
      "3 0 1 4 3 (4, 4)\n",
      "0 -1 0 3 3 (2, 3)\n",
      "0 -1 0 2 3 (1, 3)\n",
      "0 -1 0 1 3 (0, 3)\n",
      "1 0 -1 1 2 (1, 1)\n",
      "1 0 -1 1 1 (1, 0)\n",
      "2 1 0 2 1 (3, 1)\n",
      "2 1 0 3 1 (4, 1)\n",
      "3 0 1 3 2 (3, 3)\n",
      "0 -1 0 2 2 (1, 2)\n"
     ]
    },
    {
     "data": {
      "text/plain": [
       "[[9, 8, 7, 6, 5],\n",
       " [10, 21, 20, 19, 4],\n",
       " [11, 22, 25, 18, 3],\n",
       " [12, 23, 24, 17, 2],\n",
       " [13, 14, 15, 16, 1]]"
      ]
     },
     "execution_count": 30,
     "metadata": {},
     "output_type": "execute_result"
    }
   ],
   "source": [
    "def createSpiralMatrix(n):\n",
    "    dirs = [(-1, 0), (0, -1), (1, 0), (0, 1)]\n",
    "    curDir = 0\n",
    "    curPos = (n - 1, n - 1)\n",
    "    res = [[0 for x in range(n)] for y in range(n)]\n",
    "\n",
    "    for i in range(1, n * n + 1):\n",
    "        res[curPos[0]][curPos[1]] = i\n",
    "#         print (i)\n",
    "        nextPos = curPos[0] + dirs[curDir][0], curPos[1] + dirs[curDir][1]\n",
    "    \n",
    "        print(curDir, dirs[curDir][0], dirs[curDir][1], curPos[0], curPos[1], nextPos)\n",
    "        if not (0 <= nextPos[0] < n and\n",
    "                0 <= nextPos[1] < n and\n",
    "                res[nextPos[0]][nextPos[1]] == 0):\n",
    "            curDir = (curDir + 1) % 4\n",
    "            nextPos = curPos[0] + dirs[curDir][0], curPos[1] + dirs[curDir][1]\n",
    "        curPos = nextPos\n",
    "\n",
    "    return res\n",
    "\n",
    "\n",
    "createSpiralMatrix(5) \n",
    "\n"
   ]
  },
  {
   "cell_type": "code",
   "execution_count": 29,
   "metadata": {},
   "outputs": [
    {
     "ename": "RecursionError",
     "evalue": "maximum recursion depth exceeded in comparison",
     "output_type": "error",
     "traceback": [
      "\u001b[1;31m---------------------------------------------------------------------------\u001b[0m",
      "\u001b[1;31mRecursionError\u001b[0m                            Traceback (most recent call last)",
      "\u001b[1;32m<ipython-input-29-dc87127f010c>\u001b[0m in \u001b[0;36m<module>\u001b[1;34m\u001b[0m\n\u001b[0;32m     37\u001b[0m \u001b[1;33m\u001b[0m\u001b[0m\n\u001b[0;32m     38\u001b[0m \u001b[1;33m\u001b[0m\u001b[0m\n\u001b[1;32m---> 39\u001b[1;33m \u001b[0mcreatespiralmatrix\u001b[0m\u001b[1;33m(\u001b[0m\u001b[1;36m5\u001b[0m\u001b[1;33m,\u001b[0m \u001b[1;36m1\u001b[0m\u001b[1;33m)\u001b[0m\u001b[1;33m\u001b[0m\u001b[1;33m\u001b[0m\u001b[0m\n\u001b[0m",
      "\u001b[1;32m<ipython-input-29-dc87127f010c>\u001b[0m in \u001b[0;36mcreatespiralmatrix\u001b[1;34m(n, num)\u001b[0m\n\u001b[0;32m     33\u001b[0m         \u001b[0mnum\u001b[0m \u001b[1;33m+=\u001b[0m \u001b[1;36m1\u001b[0m\u001b[1;33m\u001b[0m\u001b[1;33m\u001b[0m\u001b[0m\n\u001b[0;32m     34\u001b[0m \u001b[1;33m\u001b[0m\u001b[0m\n\u001b[1;32m---> 35\u001b[1;33m     \u001b[0mcreatespiralmatrix\u001b[0m\u001b[1;33m(\u001b[0m\u001b[0mn\u001b[0m\u001b[1;33m-\u001b[0m\u001b[1;36m1\u001b[0m\u001b[1;33m,\u001b[0m \u001b[0mnum\u001b[0m\u001b[1;33m)\u001b[0m\u001b[1;33m\u001b[0m\u001b[1;33m\u001b[0m\u001b[0m\n\u001b[0m\u001b[0;32m     36\u001b[0m \u001b[1;33m\u001b[0m\u001b[0m\n\u001b[0;32m     37\u001b[0m \u001b[1;33m\u001b[0m\u001b[0m\n",
      "... last 1 frames repeated, from the frame below ...\n",
      "\u001b[1;32m<ipython-input-29-dc87127f010c>\u001b[0m in \u001b[0;36mcreatespiralmatrix\u001b[1;34m(n, num)\u001b[0m\n\u001b[0;32m     33\u001b[0m         \u001b[0mnum\u001b[0m \u001b[1;33m+=\u001b[0m \u001b[1;36m1\u001b[0m\u001b[1;33m\u001b[0m\u001b[1;33m\u001b[0m\u001b[0m\n\u001b[0;32m     34\u001b[0m \u001b[1;33m\u001b[0m\u001b[0m\n\u001b[1;32m---> 35\u001b[1;33m     \u001b[0mcreatespiralmatrix\u001b[0m\u001b[1;33m(\u001b[0m\u001b[0mn\u001b[0m\u001b[1;33m-\u001b[0m\u001b[1;36m1\u001b[0m\u001b[1;33m,\u001b[0m \u001b[0mnum\u001b[0m\u001b[1;33m)\u001b[0m\u001b[1;33m\u001b[0m\u001b[1;33m\u001b[0m\u001b[0m\n\u001b[0m\u001b[0;32m     36\u001b[0m \u001b[1;33m\u001b[0m\u001b[0m\n\u001b[0;32m     37\u001b[0m \u001b[1;33m\u001b[0m\u001b[0m\n",
      "\u001b[1;31mRecursionError\u001b[0m: maximum recursion depth exceeded in comparison"
     ]
    }
   ],
   "source": [
    "n = 5\n",
    "arr = [[0 for x in range(n)] for y in range(n)]\n",
    "\n",
    "\n",
    "\n",
    "num = 1\n",
    "\n",
    "def createspiralmatrix(n, num):\n",
    "    pos = (n-1, n-1)\n",
    "    col = n-1\n",
    "    \n",
    "    for i in range(n-1, -1, -1):\n",
    "        pos = (i, col)\n",
    "        arr[pos[0]][pos[1]] = num\n",
    "        num += 1\n",
    "\n",
    "    row = pos[0]\n",
    "    for i in range(n-2, -1, -1):\n",
    "        pos = (row, i)\n",
    "        arr[pos[0]][pos[1]] = num\n",
    "        num += 1\n",
    "\n",
    "    col = pos[1]\n",
    "    for i in range(row+1, n):\n",
    "        pos = (i, col)\n",
    "        arr[pos[0]][pos[1]] = num\n",
    "        num += 1\n",
    "\n",
    "    row = pos[0]\n",
    "    for i in range(col+1, n-1):\n",
    "        pos = (row, i)\n",
    "        arr[pos[0]][pos[1]] = num\n",
    "        num += 1\n",
    "        \n",
    "    createspiralmatrix(n-1, num)\n",
    "    \n",
    "\n",
    "\n",
    "createspiralmatrix(5, 1)"
   ]
  },
  {
   "cell_type": "code",
   "execution_count": 50,
   "metadata": {},
   "outputs": [
    {
     "data": {
      "text/plain": [
       "[[0],\n",
       " [0, 0],\n",
       " [0, 0, 0],\n",
       " [0, 0, 0, 0],\n",
       " [0, 0, 0, 0, 0],\n",
       " [0, 0, 0, 0],\n",
       " [0, 0, 0],\n",
       " [0, 0],\n",
       " [0]]"
      ]
     },
     "execution_count": 50,
     "metadata": {},
     "output_type": "execute_result"
    }
   ],
   "source": [
    "n = 5\n",
    "\n",
    "\n",
    "arr = [[0]*min(i,2*n-i) for i in range(1, 2*n)]\n",
    "arr"
   ]
  },
  {
   "cell_type": "code",
   "execution_count": 55,
   "metadata": {},
   "outputs": [
    {
     "ename": "SyntaxError",
     "evalue": "invalid syntax (<ipython-input-55-df4847b669f8>, line 28)",
     "output_type": "error",
     "traceback": [
      "\u001b[1;36m  File \u001b[1;32m\"<ipython-input-55-df4847b669f8>\"\u001b[1;36m, line \u001b[1;32m28\u001b[0m\n\u001b[1;33m    ListNode l = [3, 1, 2, 3, 4, 5]\u001b[0m\n\u001b[1;37m             ^\u001b[0m\n\u001b[1;31mSyntaxError\u001b[0m\u001b[1;31m:\u001b[0m invalid syntax\n"
     ]
    }
   ],
   "source": [
    "# Definition for singly-linked list:\n",
    "class ListNode(object):\n",
    "    def __init__(self, x):\n",
    "        self.value = x\n",
    "        self.next = None\n",
    "\n",
    "def removeKFromList(head, k):\n",
    "    \n",
    "    if head == None:\n",
    "        return head\n",
    "    elif head.value == k:\n",
    "        head = head.next\n",
    "        \n",
    "    n = head\n",
    "     \n",
    "    while n != None and n.next != None:\n",
    "        if n.next.value == k:\n",
    "            n.next = n.next.next\n",
    "        else:\n",
    "            n = n.next  \n",
    "    \n",
    "    if n != None and n.value == k:\n",
    "        head = head.next\n",
    "        \n",
    "    return head\n",
    "\n",
    "\n",
    "ListNode l = [3, 1, 2, 3, 4, 5] \n",
    "k = 3\n",
    "\n",
    "removeKFromList(l,k)"
   ]
  },
  {
   "cell_type": "code",
   "execution_count": 57,
   "metadata": {},
   "outputs": [
    {
     "name": "stdout",
     "output_type": "stream",
     "text": [
      "160\n"
     ]
    }
   ],
   "source": [
    "def knapSack(W, wt, val, n):\n",
    "   # initial conditions\n",
    "   if n == 0 or W == 0 :\n",
    "        return 0\n",
    "   # If weight is higher than capacity then it is not included\n",
    "   if (wt[n-1] > W):\n",
    "        return knapSack(W, wt, val, n-1)\n",
    "   # return either nth item being included or not\n",
    "   else:\n",
    "        return max(val[n-1] + knapSack(W-wt[n-1], wt, val, n-1),\n",
    "            knapSack(W, wt, val, n-1))\n",
    "    \n",
    "    \n",
    "# To test above function\n",
    "val = [60, 100, 120]\n",
    "wt = [10, 20, 30]\n",
    "W = 50\n",
    "n = len(val)\n",
    "print (knapSack(W, wt, val, n))"
   ]
  },
  {
   "cell_type": "code",
   "execution_count": null,
   "metadata": {},
   "outputs": [],
   "source": [
    "W = [15, 10, 2, 4] \n",
    "V = [30, 25, 2, 6] \n",
    "M = 37\n",
    "n = 3"
   ]
  },
  {
   "cell_type": "code",
   "execution_count": 26,
   "metadata": {},
   "outputs": [
    {
     "data": {
      "text/plain": [
       "[[0, 0, 0, 0, 0, 0, 0],\n",
       " [0, 0, 0, 0, 0, 0, 0],\n",
       " [0, 0, 0, 0, 0, 0, 0],\n",
       " [0, 0, 0, 0, 0, 0, 0],\n",
       " [0, 0, 0, 0, 0, 0, 0],\n",
       " [0, 0, 0, 0, 0, 0, 0],\n",
       " [0, 0, 0, 0, 0, 0, 0]]"
      ]
     },
     "execution_count": 26,
     "metadata": {},
     "output_type": "execute_result"
    }
   ],
   "source": [
    "arr = [[0 for x in range(n)] for y in range(n)]\n",
    "arr"
   ]
  },
  {
   "cell_type": "code",
   "execution_count": 84,
   "metadata": {},
   "outputs": [
    {
     "name": "stdout",
     "output_type": "stream",
     "text": [
      "0 0 7\n",
      "49 48 47 46 45 44 43 \n",
      "0 0 0 0 0 0 0 \n",
      "0 0 0 0 0 0 0 \n",
      "0 0 0 0 0 0 0 \n",
      "0 0 0 0 0 0 0 \n",
      "0 0 0 0 0 0 0 \n",
      "0 0 0 0 0 0 0 \n",
      "49 48 47 46 45 44 43 \n",
      "0 0 0 0 0 0 42 \n",
      "0 0 0 0 0 0 41 \n",
      "0 0 0 0 0 0 40 \n",
      "0 0 0 0 0 0 39 \n",
      "0 0 0 0 0 0 38 \n",
      "0 0 0 0 0 0 37 \n",
      "49 48 47 46 45 44 43 \n",
      "0 0 0 0 0 0 42 \n",
      "0 0 0 0 0 0 41 \n",
      "0 0 0 0 0 0 40 \n",
      "0 0 0 0 0 0 39 \n",
      "0 0 0 0 0 0 38 \n",
      "31 32 33 34 35 36 37 \n",
      "49 48 47 46 45 44 43 \n",
      "26 0 0 0 0 0 42 \n",
      "27 0 0 0 0 0 41 \n",
      "28 0 0 0 0 0 40 \n",
      "29 0 0 0 0 0 39 \n",
      "30 0 0 0 0 0 38 \n",
      "31 32 33 34 35 36 37 \n",
      "1 0 25 5 1 1\n",
      "-------------------------------\n",
      "1 1 5\n",
      "49 48 47 46 45 44 43 \n",
      "26 25 24 23 22 0 42 \n",
      "27 0 0 0 0 0 41 \n",
      "28 0 0 0 0 0 40 \n",
      "29 0 0 0 0 0 39 \n",
      "30 0 0 0 0 0 38 \n",
      "31 32 33 34 35 36 37 \n",
      "49 48 47 46 45 44 43 \n",
      "26 25 24 23 22 0 42 \n",
      "27 0 0 0 21 0 41 \n",
      "28 0 0 0 20 0 40 \n",
      "29 0 0 0 19 0 39 \n",
      "30 0 0 0 0 0 38 \n",
      "31 32 33 34 35 36 37 \n",
      "49 48 47 46 45 44 43 \n",
      "26 25 24 23 22 0 42 \n",
      "27 0 0 0 21 0 41 \n",
      "28 0 0 0 20 0 40 \n",
      "15 16 17 18 19 0 39 \n",
      "30 0 0 0 0 0 38 \n",
      "31 32 33 34 35 36 37 \n",
      "49 48 47 46 45 44 43 \n",
      "12 25 24 23 22 0 42 \n",
      "13 0 0 0 21 0 41 \n",
      "14 0 0 0 20 0 40 \n",
      "15 16 17 18 19 0 39 \n",
      "30 0 0 0 0 0 38 \n",
      "31 32 33 34 35 36 37 \n",
      "1 0 11 3 1 1\n",
      "-------------------------------\n",
      "1 1 3\n",
      "49 48 47 46 45 44 43 \n",
      "12 9 8 23 22 0 42 \n",
      "13 0 0 0 21 0 41 \n",
      "14 0 0 0 20 0 40 \n",
      "15 16 17 18 19 0 39 \n",
      "30 0 0 0 0 0 38 \n",
      "31 32 33 34 35 36 37 \n",
      "49 48 47 46 45 44 43 \n",
      "12 9 8 23 22 0 42 \n",
      "13 0 7 0 21 0 41 \n",
      "14 0 0 0 20 0 40 \n",
      "15 16 17 18 19 0 39 \n",
      "30 0 0 0 0 0 38 \n",
      "31 32 33 34 35 36 37 \n",
      "49 48 47 46 45 44 43 \n",
      "12 9 8 23 22 0 42 \n",
      "5 6 7 0 21 0 41 \n",
      "14 0 0 0 20 0 40 \n",
      "15 16 17 18 19 0 39 \n",
      "30 0 0 0 0 0 38 \n",
      "31 32 33 34 35 36 37 \n",
      "49 48 47 46 45 44 43 \n",
      "4 9 8 23 22 0 42 \n",
      "5 6 7 0 21 0 41 \n",
      "14 0 0 0 20 0 40 \n",
      "15 16 17 18 19 0 39 \n",
      "30 0 0 0 0 0 38 \n",
      "31 32 33 34 35 36 37 \n",
      "1 0 3 1 1 1\n",
      "-------------------------------\n"
     ]
    },
    {
     "data": {
      "text/plain": [
       "[[49, 48, 47, 46, 45, 44, 43],\n",
       " [4, 9, 8, 23, 22, 0, 42],\n",
       " [5, 6, 7, 0, 21, 0, 41],\n",
       " [14, 0, 0, 0, 20, 0, 40],\n",
       " [15, 16, 17, 18, 19, 0, 39],\n",
       " [30, 0, 0, 0, 0, 0, 38],\n",
       " [31, 32, 33, 34, 35, 36, 37]]"
      ]
     },
     "execution_count": 84,
     "metadata": {},
     "output_type": "execute_result"
    }
   ],
   "source": [
    "n=7\n",
    "num = n*n\n",
    "arr = [[0 for x in range(n)] for y in range(n)]\n",
    "# print (arr)\n",
    "\n",
    "currow=0 \n",
    "curcol=0\n",
    "\n",
    "def spiralmatrix(arr, n, row, col):\n",
    "    num = n*n\n",
    "    \n",
    "    print (row, col, n)\n",
    "    for i in range(col,n):\n",
    "        arr[row][i] = num\n",
    "        num -= 1\n",
    "    printmatrix(arr)\n",
    "        \n",
    "        \n",
    "    col = i\n",
    "    for i in range(row+1,n):\n",
    "        arr[i][col] = num\n",
    "        num -= 1\n",
    "    printmatrix(arr)\n",
    "\n",
    "    row = i\n",
    "    for i in range(col-1, -1, -1):\n",
    "        arr[row][i] = num\n",
    "        num -= 1\n",
    "    printmatrix(arr)\n",
    "\n",
    "    col = i\n",
    "    for i in range(row-1, 0, -1):\n",
    "        arr[i][col] = num\n",
    "        num -= 1\n",
    "    printmatrix(arr)\n",
    "    \n",
    "    print(i, col, num, n-2, i, col+1)\n",
    "    \n",
    "    print(\"-------------------------------\")\n",
    "    \n",
    "    if n-2>1:\n",
    "        spiralmatrix(arr, n-2, i, col+1)\n",
    "\n",
    "\n",
    "# arr[row-1][col+1] = num\n",
    "\n",
    "\n",
    "# print(arr)\n",
    "#   # print(row, col)\n",
    "# spiralmatrix(arr, n, 0, 0)\n",
    "\n",
    "\n",
    "\n",
    "spiralmatrix(arr, n, 0, 0)\n",
    "arr\n",
    "\n"
   ]
  },
  {
   "cell_type": "code",
   "execution_count": 68,
   "metadata": {},
   "outputs": [
    {
     "name": "stdout",
     "output_type": "stream",
     "text": [
      "49 48 47 46 45 44 43 \n",
      "26 0 0 0 0 0 42 \n",
      "27 0 0 0 0 0 41 \n",
      "28 0 0 0 0 0 40 \n",
      "29 0 0 0 0 0 39 \n",
      "30 0 0 0 0 0 38 \n",
      "31 32 33 34 35 36 37 \n"
     ]
    }
   ],
   "source": [
    "def printmatrix(arr):\n",
    "    for i in range(n):\n",
    "        for j in range(n):\n",
    "            print(arr[i][j], end=\" \")\n",
    "        print(\"\")\n",
    "\n"
   ]
  },
  {
   "cell_type": "code",
   "execution_count": 57,
   "metadata": {},
   "outputs": [],
   "source": [
    "def spiralmatrix(arr, n, sr, sc, er, ec):\n",
    "\n",
    "#     print(\"\\n\", sr,er, \":\", sc,ec)\n",
    "\n",
    "    if sr != er and sc != ec:   \n",
    "        for i in range(sc, ec+1):\n",
    "            print(arr[sr][i], end=\" \")\n",
    "\n",
    "        for j in range(sr+1, er+1):\n",
    "            print(arr[j][ec], end=\" \")\n",
    "     \n",
    "        for k in range(ec-1, sc-1, -1):\n",
    "            print(arr[er][k], end=\" \")\n",
    "\n",
    "        for l in range(er-1, sr, -1):\n",
    "            print(arr[l][sc], end=\" \")\n",
    "\n",
    "        spiralmatrix(arr, n-2, sr+1, sc+1, er-1, ec-1)    \n",
    "        \n",
    "\n"
   ]
  },
  {
   "cell_type": "code",
   "execution_count": 58,
   "metadata": {},
   "outputs": [
    {
     "name": "stdout",
     "output_type": "stream",
     "text": [
      "49 48 47 0 0 0 27 26 "
     ]
    }
   ],
   "source": [
    "n=5\n",
    "if n%2 == 0:\n",
    "    er, ec = n//2, n//2 - 1\n",
    "else:\n",
    "    er, ec = n//2, n//2\n",
    "\n",
    "er, ec\n",
    "\n",
    "spiralmatrix(arr, 5, 0, 0, er, ec)"
   ]
  },
  {
   "cell_type": "code",
   "execution_count": null,
   "metadata": {},
   "outputs": [],
   "source": []
  }
 ],
 "metadata": {
  "kernelspec": {
   "display_name": "Python 3",
   "language": "python",
   "name": "python3"
  },
  "language_info": {
   "codemirror_mode": {
    "name": "ipython",
    "version": 3
   },
   "file_extension": ".py",
   "mimetype": "text/x-python",
   "name": "python",
   "nbconvert_exporter": "python",
   "pygments_lexer": "ipython3",
   "version": "3.6.10"
  }
 },
 "nbformat": 4,
 "nbformat_minor": 4
}
