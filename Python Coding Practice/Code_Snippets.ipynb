{
 "cells": [
  {
   "cell_type": "code",
   "execution_count": null,
   "metadata": {},
   "outputs": [],
   "source": [
    "def format_number_as_percentage():\n",
    "    x = 0.25\n",
    "    y = -0.25\n",
    "    print(\"\\nOriginal Number: \", x)\n",
    "    print(\"Formatted Number with percentage: \"+\"{:.2%}\".format(x))\n",
    "    print(\"Original Number: \", y)\n",
    "    print(\"Formatted Number with percentage: \"+\"{:.2%}\".format(y))\n",
    "    print()\n",
    "\n",
    "format_number_as_percentage()"
   ]
  },
  {
   "cell_type": "code",
   "execution_count": null,
   "metadata": {},
   "outputs": [],
   "source": [
    "from numpy import prod\n",
    "def find_difference(a, b):\n",
    "    return abs(prod(a) - prod(b))\n",
    "\n",
    "from operator import mul\n",
    "from functools import reduce\n",
    "def find_difference(a, b):\n",
    "    return abs(reduce(mul, a) - reduce(mul, b))\n",
    "\n",
    "find_difference = lambda a,b,p=__import__(\"numpy\").prod: abs(p(a)-p(b))\n",
    "\n",
    "find_difference = lambda (a, b, c), (x, y, z): abs(a * b * c - x * y * z)\n",
    "\n",
    "from numpy import prod\n",
    "find_difference = lambda a, b: abs(prod(a) - prod(b))"
   ]
  },
  {
   "cell_type": "code",
   "execution_count": 15,
   "metadata": {},
   "outputs": [
    {
     "data": {
      "text/plain": [
       "<regex.Match object; span=(0, 1), match='a'>"
      ]
     },
     "execution_count": 15,
     "metadata": {},
     "output_type": "execute_result"
    }
   ],
   "source": [
    "import regex as re\n",
    "s = 'abc(mno)pqr'\n",
    "x = re.match('(.)', s)\n",
    "x"
   ]
  },
  {
   "cell_type": "code",
   "execution_count": 13,
   "metadata": {},
   "outputs": [],
   "source": [
    "def bubblesort(arr):\n",
    "    count = 0\n",
    "    loop = 0\n",
    "    for i in range(len(arr)):\n",
    "        for j in range(i+1, len(arr)):\n",
    "            loop = loop+1\n",
    "            print(i,j, \" : \", arr[i],arr[j], end=\" :: \")\n",
    "            if arr[i]>arr[j]:\n",
    "                count=count+1\n",
    "                arr[i], arr[j] = arr[j], arr[i]\n",
    "                \n",
    "            print(arr[i],arr[j])\n",
    "    print(loop, count)\n",
    "    return arr\n",
    "\n"
   ]
  },
  {
   "cell_type": "code",
   "execution_count": 14,
   "metadata": {},
   "outputs": [
    {
     "name": "stdout",
     "output_type": "stream",
     "text": [
      "0 1  :  2 1 :: 1 2\n",
      "0 2  :  1 4 :: 1 4\n",
      "0 3  :  1 7 :: 1 7\n",
      "0 4  :  1 3 :: 1 3\n",
      "0 5  :  1 8 :: 1 8\n",
      "0 6  :  1 9 :: 1 9\n",
      "0 7  :  1 5 :: 1 5\n",
      "0 8  :  1 10 :: 1 10\n",
      "1 2  :  2 4 :: 2 4\n",
      "1 3  :  2 7 :: 2 7\n",
      "1 4  :  2 3 :: 2 3\n",
      "1 5  :  2 8 :: 2 8\n",
      "1 6  :  2 9 :: 2 9\n",
      "1 7  :  2 5 :: 2 5\n",
      "1 8  :  2 10 :: 2 10\n",
      "2 3  :  4 7 :: 4 7\n",
      "2 4  :  4 3 :: 3 4\n",
      "2 5  :  3 8 :: 3 8\n",
      "2 6  :  3 9 :: 3 9\n",
      "2 7  :  3 5 :: 3 5\n",
      "2 8  :  3 10 :: 3 10\n",
      "3 4  :  7 4 :: 4 7\n",
      "3 5  :  4 8 :: 4 8\n",
      "3 6  :  4 9 :: 4 9\n",
      "3 7  :  4 5 :: 4 5\n",
      "3 8  :  4 10 :: 4 10\n",
      "4 5  :  7 8 :: 7 8\n",
      "4 6  :  7 9 :: 7 9\n",
      "4 7  :  7 5 :: 5 7\n",
      "4 8  :  5 10 :: 5 10\n",
      "5 6  :  8 9 :: 8 9\n",
      "5 7  :  8 7 :: 7 8\n",
      "5 8  :  7 10 :: 7 10\n",
      "6 7  :  9 8 :: 8 9\n",
      "6 8  :  8 10 :: 8 10\n",
      "7 8  :  9 10 :: 9 10\n",
      "36 6\n"
     ]
    },
    {
     "data": {
      "text/plain": [
       "[1, 2, 3, 4, 5, 7, 8, 9, 10]"
      ]
     },
     "execution_count": 14,
     "metadata": {},
     "output_type": "execute_result"
    }
   ],
   "source": [
    "numarr = [2,1,4,7,3,8,9,5,10]\n",
    "bubblesort(numarr)"
   ]
  },
  {
   "cell_type": "code",
   "execution_count": null,
   "metadata": {},
   "outputs": [],
   "source": []
  }
 ],
 "metadata": {
  "kernelspec": {
   "display_name": "Python 3",
   "language": "python",
   "name": "python3"
  },
  "language_info": {
   "codemirror_mode": {
    "name": "ipython",
    "version": 3
   },
   "file_extension": ".py",
   "mimetype": "text/x-python",
   "name": "python",
   "nbconvert_exporter": "python",
   "pygments_lexer": "ipython3",
   "version": "3.6.10"
  }
 },
 "nbformat": 4,
 "nbformat_minor": 4
}
