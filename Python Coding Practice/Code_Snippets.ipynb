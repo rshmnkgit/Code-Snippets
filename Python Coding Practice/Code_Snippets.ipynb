{
 "cells": [
  {
   "cell_type": "code",
   "execution_count": null,
   "metadata": {},
   "outputs": [],
   "source": [
    "def format_number_as_percentage():\n",
    "    x = 0.25\n",
    "    y = -0.25\n",
    "    print(\"\\nOriginal Number: \", x)\n",
    "    print(\"Formatted Number with percentage: \"+\"{:.2%}\".format(x))\n",
    "    print(\"Original Number: \", y)\n",
    "    print(\"Formatted Number with percentage: \"+\"{:.2%}\".format(y))\n",
    "    print()\n",
    "\n",
    "format_number_as_percentage()"
   ]
  },
  {
   "cell_type": "code",
   "execution_count": null,
   "metadata": {},
   "outputs": [],
   "source": [
    "from numpy import prod\n",
    "def find_difference(a, b):\n",
    "    return abs(prod(a) - prod(b))\n",
    "\n",
    "from operator import mul\n",
    "from functools import reduce\n",
    "def find_difference(a, b):\n",
    "    return abs(reduce(mul, a) - reduce(mul, b))\n",
    "\n",
    "find_difference = lambda a,b,p=__import__(\"numpy\").prod: abs(p(a)-p(b))\n",
    "\n",
    "find_difference = lambda (a, b, c), (x, y, z): abs(a * b * c - x * y * z)\n",
    "\n",
    "from numpy import prod\n",
    "find_difference = lambda a, b: abs(prod(a) - prod(b))"
   ]
  },
  {
   "cell_type": "code",
   "execution_count": 15,
   "metadata": {},
   "outputs": [
    {
     "data": {
      "text/plain": [
       "<regex.Match object; span=(0, 1), match='a'>"
      ]
     },
     "execution_count": 15,
     "metadata": {},
     "output_type": "execute_result"
    }
   ],
   "source": [
    "import regex as re\n",
    "s = 'abc(mno)pqr'\n",
    "x = re.match('(.)', s)\n",
    "x"
   ]
  },
  {
   "cell_type": "code",
   "execution_count": 13,
   "metadata": {},
   "outputs": [],
   "source": [
    "def bubblesort(arr):\n",
    "    count = 0\n",
    "    loop = 0\n",
    "    for i in range(len(arr)):\n",
    "        for j in range(i+1, len(arr)):\n",
    "            loop = loop+1\n",
    "            print(i,j, \" : \", arr[i],arr[j], end=\" :: \")\n",
    "            if arr[i]>arr[j]:\n",
    "                count=count+1\n",
    "                arr[i], arr[j] = arr[j], arr[i]\n",
    "                \n",
    "            print(arr[i],arr[j])\n",
    "    print(loop, count)\n",
    "    return arr\n",
    "\n"
   ]
  },
  {
   "cell_type": "code",
   "execution_count": 14,
   "metadata": {},
   "outputs": [
    {
     "name": "stdout",
     "output_type": "stream",
     "text": [
      "0 1  :  2 1 :: 1 2\n",
      "0 2  :  1 4 :: 1 4\n",
      "0 3  :  1 7 :: 1 7\n",
      "0 4  :  1 3 :: 1 3\n",
      "0 5  :  1 8 :: 1 8\n",
      "0 6  :  1 9 :: 1 9\n",
      "0 7  :  1 5 :: 1 5\n",
      "0 8  :  1 10 :: 1 10\n",
      "1 2  :  2 4 :: 2 4\n",
      "1 3  :  2 7 :: 2 7\n",
      "1 4  :  2 3 :: 2 3\n",
      "1 5  :  2 8 :: 2 8\n",
      "1 6  :  2 9 :: 2 9\n",
      "1 7  :  2 5 :: 2 5\n",
      "1 8  :  2 10 :: 2 10\n",
      "2 3  :  4 7 :: 4 7\n",
      "2 4  :  4 3 :: 3 4\n",
      "2 5  :  3 8 :: 3 8\n",
      "2 6  :  3 9 :: 3 9\n",
      "2 7  :  3 5 :: 3 5\n",
      "2 8  :  3 10 :: 3 10\n",
      "3 4  :  7 4 :: 4 7\n",
      "3 5  :  4 8 :: 4 8\n",
      "3 6  :  4 9 :: 4 9\n",
      "3 7  :  4 5 :: 4 5\n",
      "3 8  :  4 10 :: 4 10\n",
      "4 5  :  7 8 :: 7 8\n",
      "4 6  :  7 9 :: 7 9\n",
      "4 7  :  7 5 :: 5 7\n",
      "4 8  :  5 10 :: 5 10\n",
      "5 6  :  8 9 :: 8 9\n",
      "5 7  :  8 7 :: 7 8\n",
      "5 8  :  7 10 :: 7 10\n",
      "6 7  :  9 8 :: 8 9\n",
      "6 8  :  8 10 :: 8 10\n",
      "7 8  :  9 10 :: 9 10\n",
      "36 6\n"
     ]
    },
    {
     "data": {
      "text/plain": [
       "[1, 2, 3, 4, 5, 7, 8, 9, 10]"
      ]
     },
     "execution_count": 14,
     "metadata": {},
     "output_type": "execute_result"
    }
   ],
   "source": [
    "numarr = [2,1,4,7,3,8,9,5,10]\n",
    "bubblesort(numarr)"
   ]
  },
  {
   "cell_type": "markdown",
   "metadata": {},
   "source": [
    "###  Spiral Matrix"
   ]
  },
  {
   "cell_type": "code",
   "execution_count": 129,
   "metadata": {},
   "outputs": [],
   "source": [
    "def printmatrix(arr):\n",
    "    for i in range(n):\n",
    "        for j in range(n):\n",
    "            print('{: 3}'.format(arr[i][j]) , end=\" \")\n",
    "        print(\"\")\n",
    "    print(\"\\n\")"
   ]
  },
  {
   "cell_type": "code",
   "execution_count": 130,
   "metadata": {},
   "outputs": [],
   "source": [
    "def spiralmatrix(arr, n, row, col, num, ctr):\n",
    "\n",
    "    for i in range(col,n):\n",
    "        arr[row][i] = num\n",
    "        num -= 1\n",
    "    \n",
    "    col = i\n",
    "    r = row\n",
    "    for i in range(row+1, n):\n",
    "        arr[i][col] = num\n",
    "        num -= 1\n",
    "\n",
    "    row = i\n",
    "    for i in range(col-1, ctr-1, -1):\n",
    "        arr[row][i] = num\n",
    "        num -= 1\n",
    "\n",
    "    col = i\n",
    "    for i in range(row-1, ctr, -1):\n",
    "        arr[i][col] = num\n",
    "        num -= 1\n",
    "        \n",
    "        spiralmatrix(arr, n-1, i, col+1, num, ctr+1)"
   ]
  },
  {
   "cell_type": "code",
   "execution_count": 131,
   "metadata": {},
   "outputs": [
    {
     "name": "stdout",
     "output_type": "stream",
     "text": [
      " 225  224  223  222  221  220  219  218  217  216  215  214  213  212  211 \n",
      " 170  169  168  167  166  165  164  163  162  161  160  159  158  157  210 \n",
      " 171  122  121  120  119  118  117  116  115  114  113  112  111  156  209 \n",
      " 172  123  82  81  80  79  78  77  76  75  74  73  110  155  208 \n",
      " 173  124  83  50  49  48  47  46  45  44  43  72  109  154  207 \n",
      " 174  125  84  51  26  25  24  23  22  21  42  71  108  153  206 \n",
      " 175  126  85  52  27  10   9   8   7  20  41  70  107  152  205 \n",
      " 176  127  86  53  28  11   2   1   6  19  40  69  106  151  204 \n",
      " 177  128  87  54  29  12   3   4   5  18  39  68  105  150  203 \n",
      " 178  129  88  55  30  13  14  15  16  17  38  67  104  149  202 \n",
      " 179  130  89  56  31  32  33  34  35  36  37  66  103  148  201 \n",
      " 180  131  90  57  58  59  60  61  62  63  64  65  102  147  200 \n",
      " 181  132  91  92  93  94  95  96  97  98  99  100  101  146  199 \n",
      " 182  133  134  135  136  137  138  139  140  141  142  143  144  145  198 \n",
      " 183  184  185  186  187  188  189  190  191  192  193  194  195  196  197 \n",
      "\n",
      "\n"
     ]
    }
   ],
   "source": [
    "n=15\n",
    "arr = [[0 for x in range(n)] for y in range(n)]        \n",
    "counter = 0\n",
    "spiralmatrix(arr, n, 0, 0, n*n, counter)\n",
    "printmatrix(arr)\n"
   ]
  },
  {
   "cell_type": "code",
   "execution_count": null,
   "metadata": {},
   "outputs": [],
   "source": []
  }
 ],
 "metadata": {
  "kernelspec": {
   "display_name": "Python 3",
   "language": "python",
   "name": "python3"
  },
  "language_info": {
   "codemirror_mode": {
    "name": "ipython",
    "version": 3
   },
   "file_extension": ".py",
   "mimetype": "text/x-python",
   "name": "python",
   "nbconvert_exporter": "python",
   "pygments_lexer": "ipython3",
   "version": "3.6.10"
  }
 },
 "nbformat": 4,
 "nbformat_minor": 4
}
