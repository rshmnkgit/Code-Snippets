{
 "cells": [
  {
   "cell_type": "code",
   "execution_count": null,
   "metadata": {},
   "outputs": [],
   "source": [
    "def format_number_as_percentage():\n",
    "    x = 0.25\n",
    "    y = -0.25\n",
    "    print(\"\\nOriginal Number: \", x)\n",
    "    print(\"Formatted Number with percentage: \"+\"{:.2%}\".format(x))\n",
    "    print(\"Original Number: \", y)\n",
    "    print(\"Formatted Number with percentage: \"+\"{:.2%}\".format(y))\n",
    "    print()\n",
    "\n",
    "format_number_as_percentage()"
   ]
  },
  {
   "cell_type": "code",
   "execution_count": null,
   "metadata": {},
   "outputs": [],
   "source": [
    "from numpy import prod\n",
    "def find_difference(a, b):\n",
    "    return abs(prod(a) - prod(b))\n",
    "\n",
    "from operator import mul\n",
    "from functools import reduce\n",
    "def find_difference(a, b):\n",
    "    return abs(reduce(mul, a) - reduce(mul, b))\n",
    "\n",
    "find_difference = lambda a,b,p=__import__(\"numpy\").prod: abs(p(a)-p(b))\n",
    "\n",
    "find_difference = lambda (a, b, c), (x, y, z): abs(a * b * c - x * y * z)\n",
    "\n",
    "from numpy import prod\n",
    "find_difference = lambda a, b: abs(prod(a) - prod(b))"
   ]
  }
 ],
 "metadata": {
  "kernelspec": {
   "display_name": "Python 3",
   "language": "python",
   "name": "python3"
  },
  "language_info": {
   "codemirror_mode": {
    "name": "ipython",
    "version": 3
   },
   "file_extension": ".py",
   "mimetype": "text/x-python",
   "name": "python",
   "nbconvert_exporter": "python",
   "pygments_lexer": "ipython3",
   "version": "3.6.10"
  }
 },
 "nbformat": 4,
 "nbformat_minor": 4
}
