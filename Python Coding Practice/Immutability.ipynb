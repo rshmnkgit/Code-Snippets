{
 "cells": [
  {
   "cell_type": "markdown",
   "metadata": {},
   "source": [
    "### Immutability\n",
    "\n",
    "The value of some objects can change. Objects whose value can change are said to be **mutable**; objects whose value is unchangeable once they are created are called **immutable**."
   ]
  },
  {
   "cell_type": "code",
   "execution_count": 20,
   "metadata": {},
   "outputs": [
    {
     "name": "stdout",
     "output_type": "stream",
     "text": [
      "1441903104 1441903104\n",
      "11 10 1441903136 1441903104\n",
      "12 10 1441903168 1441903104\n",
      "--------------------\n",
      "1 1441902816 1441902848 3033460746248\n",
      "2 1441902848 1441902848 3033460746248\n"
     ]
    }
   ],
   "source": [
    "x = 10\n",
    "y = x\n",
    "print(id(x),  id(y))\n",
    "x = x+1\n",
    "print(x, y, id(x), id(y))\n",
    "x = 12\n",
    "print(x, y, id(x), id(y))\n",
    "\n",
    "print(\"--------------------\")\n",
    "\n",
    "arr = [1,2,3,4,5]\n",
    "print(arr[0], id(arr[0]), id(arr[1]), id(arr))\n",
    "\n",
    "arr[0]=arr[0]*2\n",
    "print(arr[0], id(arr[0]), id(arr[1]), id(arr))\n"
   ]
  },
  {
   "cell_type": "markdown",
   "metadata": {},
   "source": [
    "### List vs Tuples\n",
    "\n",
    "List is mutable.\n",
    "Tuple is immutable."
   ]
  },
  {
   "cell_type": "code",
   "execution_count": 23,
   "metadata": {},
   "outputs": [
    {
     "name": "stdout",
     "output_type": "stream",
     "text": [
      "1\n",
      "10\n",
      "-----------------------\n",
      "3033460693320 3033460800104\n",
      "[100, 2, 3]\n",
      "3033460693320 3033460800104\n"
     ]
    },
    {
     "ename": "TypeError",
     "evalue": "'tuple' object does not support item assignment",
     "output_type": "error",
     "traceback": [
      "\u001b[1;31m---------------------------------------------------------------------------\u001b[0m",
      "\u001b[1;31mTypeError\u001b[0m                                 Traceback (most recent call last)",
      "\u001b[1;32m<ipython-input-23-6daa05350144>\u001b[0m in \u001b[0;36m<module>\u001b[1;34m\u001b[0m\n\u001b[0;32m     14\u001b[0m \u001b[0mprint\u001b[0m\u001b[1;33m(\u001b[0m\u001b[0mid\u001b[0m\u001b[1;33m(\u001b[0m\u001b[0mmy_list\u001b[0m\u001b[1;33m)\u001b[0m\u001b[1;33m,\u001b[0m \u001b[0mid\u001b[0m\u001b[1;33m(\u001b[0m\u001b[0mmy_tuple\u001b[0m\u001b[1;33m)\u001b[0m\u001b[1;33m)\u001b[0m\u001b[1;33m\u001b[0m\u001b[1;33m\u001b[0m\u001b[0m\n\u001b[0;32m     15\u001b[0m \u001b[1;33m\u001b[0m\u001b[0m\n\u001b[1;32m---> 16\u001b[1;33m \u001b[0mmy_tuple\u001b[0m\u001b[1;33m[\u001b[0m\u001b[1;36m0\u001b[0m\u001b[1;33m]\u001b[0m \u001b[1;33m=\u001b[0m \u001b[1;36m100\u001b[0m\u001b[1;33m\u001b[0m\u001b[1;33m\u001b[0m\u001b[0m\n\u001b[0m",
      "\u001b[1;31mTypeError\u001b[0m: 'tuple' object does not support item assignment"
     ]
    }
   ],
   "source": [
    "my_list = [1, 2, 3]\n",
    "my_tuple = (10, 20, 30)\n",
    "print(my_list[0])\n",
    "print(my_tuple[0])\n",
    "\n",
    "print(\"-----------------------\")\n",
    "\n",
    "my_list = [1, 2, 3]\n",
    "my_tuple = (10, 20, 30)\n",
    "print(id(my_list), id(my_tuple))\n",
    "\n",
    "my_list[0] = 100\n",
    "print(my_list)\n",
    "print(id(my_list), id(my_tuple))\n",
    "\n",
    "my_tuple[0] = 100"
   ]
  },
  {
   "cell_type": "code",
   "execution_count": 25,
   "metadata": {
    "scrolled": true
   },
   "outputs": [
    {
     "name": "stdout",
     "output_type": "stream",
     "text": [
      "3033461384072\n",
      "3033461372320\n",
      "\n",
      "[1, 2, 3, 4, 5, 6] (1, 2, 3, 4, 5, 6)\n",
      "3033461384072\n",
      "3033433324520\n"
     ]
    }
   ],
   "source": [
    "my_list = [1, 2, 3]\n",
    "my_tuple = (1, 2, 3)\n",
    "print(id(my_list))\n",
    "print(id(my_tuple))\n",
    "print()\n",
    "\n",
    "my_list += [4, 5, 6]\n",
    "my_tuple += (4, 5, 6)\n",
    "print(my_list, my_tuple)\n",
    "\n",
    "print(id(my_list))\n",
    "print(id(my_tuple))"
   ]
  },
  {
   "cell_type": "markdown",
   "metadata": {},
   "source": [
    "### Immutable data types \n",
    "#### int, float, string etc"
   ]
  },
  {
   "cell_type": "code",
   "execution_count": 29,
   "metadata": {
    "scrolled": false
   },
   "outputs": [
    {
     "name": "stdout",
     "output_type": "stream",
     "text": [
      "1441904128\n",
      "1441904928\n",
      "1441904960\n",
      "------------------------\n",
      "Data Science 3033460984048\n",
      "Data Science with Python 3033461600544\n"
     ]
    }
   ],
   "source": [
    "number = 42\n",
    "print(id(number))\n",
    "\n",
    "number = 67\n",
    "print(id(number))\n",
    "\n",
    "number += 1\n",
    "print(id(number))\n",
    "\n",
    "print(\"------------------------\")\n",
    "\n",
    "text = \"Data Science\"\n",
    "print(text, id(text))\n",
    "\n",
    "text += \" with Python\"\n",
    "print(text, id(text))"
   ]
  },
  {
   "cell_type": "code",
   "execution_count": null,
   "metadata": {},
   "outputs": [],
   "source": [
    "#### Copying"
   ]
  },
  {
   "cell_type": "code",
   "execution_count": 1,
   "metadata": {},
   "outputs": [
    {
     "name": "stdout",
     "output_type": "stream",
     "text": [
      "2535576844680\n",
      "2535576844680\n",
      "-----------------------\n",
      "True\n",
      "[4, 5, 6, 7]\n",
      "[4, 5, 6, 7]\n",
      "-----------------------\n",
      "True\n",
      "[4, 5, 6, 7, 6, 7, 8]\n",
      "[4, 5, 6, 7, 6, 7, 8]\n"
     ]
    }
   ],
   "source": [
    "list1 = [4, 5, 6]\n",
    "list2 = list1\n",
    "print(id(list1))\n",
    "print(id(list2))\n",
    "\n",
    "print(\"-----------------------\")\n",
    "list1.append(7)\n",
    "print(list1 is list2)\n",
    "print(list1)\n",
    "print(list2)\n",
    "\n",
    "print(\"-----------------------\")\n",
    "list2.extend([6,7,8])\n",
    "print(list1 is list2)\n",
    "print(list1)\n",
    "print(list2)"
   ]
  },
  {
   "cell_type": "code",
   "execution_count": 2,
   "metadata": {},
   "outputs": [
    {
     "name": "stdout",
     "output_type": "stream",
     "text": [
      "2535508019048\n",
      "2535508019048\n",
      "True\n",
      "\n",
      "2535576976600\n",
      "2535508019048\n",
      "False\n",
      "\n",
      "Python is awesome\n",
      "Python\n"
     ]
    }
   ],
   "source": [
    "\n",
    "text = \"Python\"\n",
    "text2 = text\n",
    "print(id(text))\n",
    "print(id(text2))\n",
    "print(text is text2)\n",
    "print()\n",
    "\n",
    "text += \" is awesome\"\n",
    "print(id(text))\n",
    "print(id(text2))\n",
    "print(text is text2)\n",
    "print()\n",
    "\n",
    "print(text)\n",
    "print(text2)"
   ]
  },
  {
   "cell_type": "markdown",
   "metadata": {},
   "source": [
    "**==** operator vs **is**\n",
    "\n",
    "**==**  Compares the values\n",
    "\n",
    "**is**  Compares the identities / id()s"
   ]
  },
  {
   "cell_type": "code",
   "execution_count": 10,
   "metadata": {},
   "outputs": [
    {
     "name": "stdout",
     "output_type": "stream",
     "text": [
      "True\n",
      "False\n",
      "------------\n",
      "2535577059976 2535577059912\n",
      "False\n",
      "False\n",
      "------------\n",
      "2535577059976 2535577059976\n",
      "True\n",
      "False\n",
      "True\n",
      "True\n"
     ]
    }
   ],
   "source": [
    "list_1 = [1, 2, 3, 4, 5]\n",
    "list_2 = [1, 2, 3, 4, 5]\n",
    "print(list_1 == list_2)\n",
    "print(list_1 is list_2)\n",
    "\n",
    "print(\"------------\")\n",
    "print(id(list_1) , id(list_2))\n",
    "print(id(list_1) == id(list_2))\n",
    "print(id(list_1) is id(list_2))\n",
    "\n",
    "print(\"------------\")\n",
    "list_3 = list_1\n",
    "print(id(list_1) , id(list_3))\n",
    "print(id(list_1) == id(list_3))\n",
    "print(id(list_1) is id(list_3))\n",
    "\n",
    "print(list_1 == list_3)\n",
    "print(list_1 is list_3)"
   ]
  },
  {
   "cell_type": "code",
   "execution_count": 19,
   "metadata": {},
   "outputs": [
    {
     "name": "stdout",
     "output_type": "stream",
     "text": [
      "2535575933320 2535576777864\n",
      "<class 'tuple'>\n",
      "(129392130, ['Programming', 'Machine Learning', 'Statistics'])\n",
      "(129392130, ['Programming', 'Machine Learning', 'Maths'])\n",
      "(129392130, ['Programming', 'Machine Learning', 'Maths'], 2, 8)\n",
      "129392130 2535576440728 2535576777864\n"
     ]
    },
    {
     "ename": "TypeError",
     "evalue": "'tuple' object does not support item assignment",
     "output_type": "error",
     "traceback": [
      "\u001b[1;31m---------------------------------------------------------------------------\u001b[0m",
      "\u001b[1;31mTypeError\u001b[0m                                 Traceback (most recent call last)",
      "\u001b[1;32m<ipython-input-19-ad8e2282faf9>\u001b[0m in \u001b[0;36m<module>\u001b[1;34m\u001b[0m\n\u001b[0;32m     14\u001b[0m \u001b[0mprint\u001b[0m\u001b[1;33m(\u001b[0m\u001b[0mperson\u001b[0m\u001b[1;33m[\u001b[0m\u001b[1;36m0\u001b[0m\u001b[1;33m]\u001b[0m\u001b[1;33m,\u001b[0m \u001b[0mid\u001b[0m\u001b[1;33m(\u001b[0m\u001b[0mperson\u001b[0m\u001b[1;33m)\u001b[0m\u001b[1;33m,\u001b[0m \u001b[0mid\u001b[0m\u001b[1;33m(\u001b[0m\u001b[0mskills\u001b[0m\u001b[1;33m)\u001b[0m\u001b[1;33m)\u001b[0m\u001b[1;33m\u001b[0m\u001b[1;33m\u001b[0m\u001b[0m\n\u001b[0;32m     15\u001b[0m \u001b[1;33m\u001b[0m\u001b[0m\n\u001b[1;32m---> 16\u001b[1;33m \u001b[0mperson\u001b[0m\u001b[1;33m[\u001b[0m\u001b[1;36m3\u001b[0m\u001b[1;33m]\u001b[0m \u001b[1;33m=\u001b[0m \u001b[1;36m9\u001b[0m\u001b[1;33m\u001b[0m\u001b[1;33m\u001b[0m\u001b[0m\n\u001b[0m",
      "\u001b[1;31mTypeError\u001b[0m: 'tuple' object does not support item assignment"
     ]
    }
   ],
   "source": [
    "skills = [\"Programming\", \"Machine Learning\", \"Statistics\"]\n",
    "person = (129392130, skills)\n",
    "print(id(person), id(skills))\n",
    "\n",
    "print(type(person))\n",
    "print(person)\n",
    "\n",
    "skills[2] = \"Maths\"\n",
    "print(person)\n",
    "\n",
    "person += (2,8)\n",
    "print(person)\n",
    "\n",
    "print(person[0], id(person), id(skills))\n",
    "\n",
    "person[3] = 9"
   ]
  },
  {
   "cell_type": "code",
   "execution_count": 21,
   "metadata": {},
   "outputs": [
    {
     "name": "stdout",
     "output_type": "stream",
     "text": [
      "1441904128\n",
      "1441903552\n",
      "(42, 24, ('Python', 'pandas', 'scikit-learn'))\n",
      "1441904384\n",
      "1441903584\n",
      "(42, 24, ('Python', 'pandas', 'scikit-learn'))\n"
     ]
    }
   ],
   "source": [
    "\n",
    "p_id = 42\n",
    "age = 24\n",
    "skills = (\"Python\", \"pandas\", \"scikit-learn\")\n",
    "info = (p_id, age, skills)\n",
    "print(id(p_id))\n",
    "print(id(age))\n",
    "print(info)\n",
    "\n",
    "p_id = 50\n",
    "age += 1\n",
    "skills += (\"machine learning\", \"deep learning\")\n",
    "print(id(p_id))\n",
    "print(id(age))\n",
    "print(info)"
   ]
  },
  {
   "cell_type": "code",
   "execution_count": null,
   "metadata": {},
   "outputs": [],
   "source": []
  }
 ],
 "metadata": {
  "kernelspec": {
   "display_name": "Python 3",
   "language": "python",
   "name": "python3"
  },
  "language_info": {
   "codemirror_mode": {
    "name": "ipython",
    "version": 3
   },
   "file_extension": ".py",
   "mimetype": "text/x-python",
   "name": "python",
   "nbconvert_exporter": "python",
   "pygments_lexer": "ipython3",
   "version": "3.6.10"
  }
 },
 "nbformat": 4,
 "nbformat_minor": 4
}
