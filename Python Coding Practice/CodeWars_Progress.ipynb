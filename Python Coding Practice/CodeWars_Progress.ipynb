{
 "cells": [
  {
   "cell_type": "code",
   "execution_count": null,
   "metadata": {},
   "outputs": [],
   "source": [
    "# FizzBuzz\n",
    "\n",
    "n = 50\n",
    "for i in range (1,n):\n",
    "    if (i % 15 == 0):\n",
    "        print(\"FizzBuzz\")\n",
    "    elif (i % 5 == 0):\n",
    "        print(\"Buzz\")\n",
    "    elif (i % 3 == 0):\n",
    "        print (\"Fizz\")\n",
    "    else:\n",
    "        print (i)"
   ]
  },
  {
   "cell_type": "code",
   "execution_count": null,
   "metadata": {},
   "outputs": [],
   "source": [
    "def DNA_strand(dna):\n",
    "    str = \"\"\n",
    "    for i in range(0, len(dna)):\n",
    "        if dna[i] == 'A':\n",
    "            code = 'T'\n",
    "        elif dna[i] == \"T\":\n",
    "            code = 'A'\n",
    "        elif (dna[i] == 'C'):\n",
    "            code = 'G'\n",
    "        elif (dna[i] == 'G'):\n",
    "            code = 'C'\n",
    "        str = str + code\n",
    "    return str"
   ]
  },
  {
   "cell_type": "code",
   "execution_count": null,
   "metadata": {},
   "outputs": [],
   "source": [
    "def get_sum(a,b):\n",
    "    #good luck!\n",
    "    if (a == b):\n",
    "        return a\n",
    "    else:\n",
    "        sum = 0\n",
    "        for i in range(a,b+1):\n",
    "            sum = sum + i\n",
    "        return sum"
   ]
  },
  {
   "cell_type": "code",
   "execution_count": null,
   "metadata": {},
   "outputs": [],
   "source": [
    "from fractions import Fraction\n",
    "def printer_error(s):    \n",
    "    # your code\n",
    "    l = len(s)\n",
    "    count = 0\n",
    "    for i in range(0, l):\n",
    "        if s[i] > 'm' and s[i] <= 'z':\n",
    "            count = count + 1\n",
    "    s = f'{count}/{l}'\n",
    "    return s"
   ]
  },
  {
   "cell_type": "code",
   "execution_count": null,
   "metadata": {},
   "outputs": [],
   "source": [
    "def find_even_index(arr):\n",
    "    sum_left = 0\n",
    "    sum_right = 0\n",
    "    idx = -1\n",
    "    for i in range(0, len(arr)):\n",
    "        sum_right = 0\n",
    "        for j in range(i+1, len(arr)):\n",
    "            sum_right = sum_right + arr[j]\n",
    "        if sum_left == sum_right:\n",
    "            idx = i \n",
    "            break\n",
    "        else:\n",
    "            sum_left = sum_left + arr[i]\n",
    "    return idx"
   ]
  },
  {
   "cell_type": "code",
   "execution_count": null,
   "metadata": {},
   "outputs": [],
   "source": [
    "def find_even_index_1(arr):\n",
    "    for i in range(len(arr)):\n",
    "        if sum(arr[i:]) == sum(arr[:i+1]):\n",
    "           return i\n",
    "    return -1"
   ]
  },
  {
   "cell_type": "code",
   "execution_count": null,
   "metadata": {},
   "outputs": [],
   "source": [
    "def longest(s1,s2):\n",
    "    c = s1+s2\n",
    "    c = set(c)\n",
    "    c = ''.join(sorted(c))\n",
    "    print(c)\n",
    "    return c"
   ]
  },
  {
   "cell_type": "code",
   "execution_count": null,
   "metadata": {},
   "outputs": [],
   "source": [
    "def filter_list(l):\n",
    "    lst = []\n",
    "    for i in l:\n",
    "        if type(i) != str:\n",
    "            lst.append(i)\n",
    "    return lst\n",
    "\n",
    "def filter_list_1(l):\n",
    "    #return a new list with the strings filtered out\n",
    "    return [x for x in l if type(x) is not str]\n",
    "\n",
    "def filter_list_2(l):\n",
    "    #return a new list with the strings filtered out'\n",
    "    return [i for i in l if not isinstance(i, str)]\n",
    "\n",
    "\n",
    "\n",
    "\n",
    "\n",
    "\n"
   ]
  },
  {
   "cell_type": "markdown",
   "metadata": {},
   "source": [
    "#                   MAIN\n",
    "###################################################################################################"
   ]
  },
  {
   "cell_type": "code",
   "execution_count": null,
   "metadata": {},
   "outputs": [],
   "source": [
    "\n",
    "# print(list('fgfdhghff'))\n",
    "\n",
    "res=[]\n",
    "res[:] = \"fgfdhghff\"\n",
    "# print(res)\n",
    "print(set(\"hhhhhmmmmm\"))\n",
    "print(longest('apppsffsagfsfdsfaaah', 'ggrregererh'))\n",
    "\n",
    "# print(filter_list([1,2,'a','b', 6, 9, 'brerberb',29.8]))\n",
    "\n",
    "r = sum(range(10))\n",
    "print(r)\n",
    "\n",
    "# Activity 4 - Even Arrays - Find the index of the item where  \n",
    "# the sum of the numbers to the left of that index = sum of the numbers to the right of that index\n",
    "# [1,2,3,4,3,2,1]\n",
    "# myArray = [20,10,-80,10,10,15,35]\n",
    "# myArray = [10,-80,10,10,15,35,20]\n",
    "# getIndex = find_even_index(myArray)\n",
    "# print(getIndex)\n",
    "\n",
    "\n",
    "# # Ativity 3 - printer color code error\n",
    "# strColor = \"aaaaaaaaaaaaaaaabbbbbbbbbbbbbbbbbbmmmmmmmmmmmmmmmmmmmxyz\"\n",
    "# error = printer_error(strColor)\n",
    "# print(f'error:  {error}')\n",
    "\n",
    "# # Activity 2 - Sum of integers between two numbers including the two numbers\n",
    "# sumnum = get_sum(2,4)\n",
    "# print(sumnum)\n",
    "\n",
    "# # Activity 1 - DNA \n",
    "# dstrand = DNA_strand('AGCTATCGAT')\n"
   ]
  }
 ],
 "metadata": {
  "kernelspec": {
   "display_name": "Python 3",
   "language": "python",
   "name": "python3"
  },
  "language_info": {
   "codemirror_mode": {
    "name": "ipython",
    "version": 3
   },
   "file_extension": ".py",
   "mimetype": "text/x-python",
   "name": "python",
   "nbconvert_exporter": "python",
   "pygments_lexer": "ipython3",
   "version": "3.6.10"
  }
 },
 "nbformat": 4,
 "nbformat_minor": 4
}
