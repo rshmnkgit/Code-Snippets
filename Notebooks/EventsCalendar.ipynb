{
 "cells": [
  {
   "cell_type": "code",
   "execution_count": 20,
   "metadata": {
    "scrolled": true
   },
   "outputs": [
    {
     "name": "stdout",
     "output_type": "stream",
     "text": [
      "\n",
      "----------------------\n",
      "\n"
     ]
    }
   ],
   "source": [
    "# Modules\n",
    "import os\n",
    "import csv\n",
    "\n",
    "# Set path for file\n",
    "# os.chdir(os.path.dirname(os.path.abspath(__file__)))\n",
    "# filename = input(\"Enter the filename:  \")\n",
    "# os.chdir(os.path.dirname(\"c:/test/\"))\n",
    "# filepath = os.path.join(\"c:/test/\", filename)\n",
    "\n",
    "# print(filepath)\n",
    "# Bonus\n",
    "# ------------------------------------------\n",
    "# Set variable to check if we found the video\n",
    "found = False\n",
    "print(\"\\n----------------------\\n\")\n",
    "# Open the CSV\n",
    "file = open(\"resources/events.txt\")\n",
    "# file = open(filepath)\n"
   ]
  },
  {
   "cell_type": "code",
   "execution_count": 21,
   "metadata": {},
   "outputs": [
    {
     "data": {
      "text/plain": [
       "'\\nCareer Services Online Events\\nThe online events below are crafted to help you move from Employer Ready to Employer Competitive.\\n\\n\\nAll sessions are hosted virtually.\\n\\n\\nTimezone may vary by session. Check the individual event pages for details.\\n\\nRecorded Online Events can be found on our YouTube channel.\\n\\n\\nThe events below are for learners of our North American boot camps. If you are located in Europe or Australia, please reach out to your Student Success Manager or Career Manager for details on upcoming engagement opportunities in your region.\\n\\nHave a topic in mind? Try searching!\\n\\nSearch Hub\\n Search\\nOr, looking for opportunities just for you? Select your program below.\\n\\nIMPORTANT: Selecting a program below will show you events tailored for that program. It will NOT show general opportunities or workshops.\\n\\nCODINGCYBERSECURITYDATA SCIENCEDIGITAL MARKETINGFINTECHPRODUCT MANAGEMENTTECH PROJECT MANAGEMENTUXUI\\nJavaScript Interviewing for Python Engineers\\nTuesday, FEBRUARY 16, 2021\\n6:00pm - 7:00pm CST\\nDetails\\nPave Your Pathway: Data Career Paths\\nWednesday, FEBRUARY 17, 2021\\n5:00pm - 6:30pm CST\\nDetails\\nOne Epic Networking Prep Session\\nWednesday, FEBRUARY 17, 2021\\n7:00pm - 8:00pm PST\\nDetails\\nTechnology Solutions Over the Years\\nThursday, FEBRUARY 18, 2021\\n12:00pm - 1:00pm MST\\nDetails\\nGoogle Recruitment Webinar and Panel Discussion\\nThursday, FEBRUARY 18, 2021\\n12:00pm - 1:00pm PST\\nDetails\\nReal Talk: Recruiting Brief - Women Candidates\\nThursday, FEBRUARY 18, 2021\\n5:00pm - 6:00pm CST\\nDetails\\nIndustry Insights: Behind the Scenes of Employer Referrals\\nMonday, FEBRUARY 22, 2021\\n6:00pm - 7:00pm CST\\nDetails\\nThe Ultimate Interview Prep Session\\nMonday, FEBRUARY 22, 2021\\n6:30pm - 8:00pm PST\\nDetails\\nTechnology Project Management - Interview Prep\\nTuesday, FEBRUARY 23, 2021\\n5:00pm - 6:00pm CST\\nDetails\\nFDM Group Recruiting Webinar\\nWednesday, FEBRUARY 24, 2021\\n12:00pm - 1:00pm EST\\nDetails\\nData Analytics - Interview Prep\\nWednesday, FEBRUARY 24, 2021\\n4:00pm - 5:00pm PST\\nDetails\\nPave Your Pathway: UX/UI Career Paths\\nThursday, FEBRUARY 25, 2021\\n6:00pm - 7:30pm PST\\nDetails\\nTech Talk: Careers in Coding\\nFriday, FEBRUARY 26, 2021\\n1:00pm - 2:00pm EST\\nDetails\\nDesign Patterns for JavaScript\\nMonday, MARCH 01, 2021\\n4:00pm - 5:00pm PST\\nDetails\\nTechnology Associate Careers with Infosys\\nTuesday, MARCH 02, 2021\\n1:00pm - 2:00pm EST\\nDetails\\nStart HERE: Intro to CS\\nTuesday, MARCH 02, 2021\\n5:00pm - 6:00pm PST\\nDetails\\nBeating the Imposter Syndrome: Conquer Your Search with Confidence\\nWednesday, MARCH 03, 2021\\n5:00pm - 6:00pm CST\\nDetails\\nMongoDB: Your Free On-demand Courses!\\nThursday, MARCH 04, 2021\\n12:00pm - 1:00pm EST\\nDetails\\nPave Your Pathway: Web Dev + Cybersecurity Career Paths\\nThursday, MARCH 04, 2021\\n6:00pm - 7:30pm CST\\nDetails\\nAI Consultancy Careers with Pandata\\nFriday, MARCH 05, 2021\\n12:00pm - 1:00pm EST\\nDetails\\nStrategies for Todayâ€™s Job Search\\nMonday, MARCH 08, 2021\\n5:00pm - 6:00pm PST\\nDetails\\nTalking Tech for the FinTech Industry\\nTuesday, MARCH 09, 2021\\n5:00pm - 6:00pm CST\\nDetails\\nReal Talk: Overcoming Age Bias in Your Job Search\\nWednesday, MARCH 10, 2021\\n6:00pm - 7:00pm CST\\nDetails\\nThe Ultimate Interview Prep Session\\nThursday, MARCH 11, 2021\\n5:00pm - 6:30pm CST\\nDetails\\nMake Your Time Count - Working With Your Career Director\\nMonday, MARCH 15, 2021\\n5:00pm - 6:00pm CDT\\nDetails\\nTalking Tech\\nTuesday, MARCH 16, 2021\\n4:00pm - 5:00pm PDT\\nDetails\\nHack Your Resume\\nThursday, MARCH 18, 2021\\n5:00pm - 6:00pm PDT\\nDetails\\nThe Ultimate Interview Prep Session\\nMonday, MARCH 22, 2021\\n5:30pm - 7:00pm PDT\\nDetails\\nFront-End Development Frameworks: React vs. Angular vs. Vue Interview\\nTuesday, MARCH 23, 2021\\n5:30pm - 6:30pm CDT\\nDetails\\nWeb Dev - Interview Prep\\nWednesday, MARCH 24, 2021\\n5:00pm - 6:00pm CDT\\nDetails\\nPave Your Pathway: Digital Marketing + UXUI Career Paths\\nThursday, MARCH 25, 2021\\n5:30pm - 7:00pm PDT\\nDetails\\nCan you handle the truth? Debunking Job Search Myths\\nMonday, MARCH 29, 2021\\n4:00pm - 5:00pm PDT\\nDetails\\nCyber - Interview Prep\\nTuesday, MARCH 30, 2021\\n5:00pm - 6:00pm CDT\\nDetails\\nBig O Notation & Algorithm Efficiency\\nWednesday, MARCH 31, 2021\\n5:00pm - 6:00pm CDT\\nDetails\\nPast Career Services Online Events\\n\\nEvents previously offered by Career Services\\n\\n\\nPowered by Trilogy Education Services, a 2U, Inc. brand.\\n\\nPrivacy\\nTerms of Use\\nCookie Policy\\nCONTACT THE ORGANIZER \\nRSVP\\nFirst Name\\nLast Name\\nEmail Address\\nYou are a...StudentAlumIndustry Professional\\nUniversity/College of Boot Camp\\nProgram\\nClass End Date\\nJob SeekingYesNoEmployedYesNo\\nDelete (Last Day Of)\\n\\n\\n'"
      ]
     },
     "execution_count": 21,
     "metadata": {},
     "output_type": "execute_result"
    }
   ],
   "source": [
    "mystr = file.read()\n",
    "mystr"
   ]
  },
  {
   "cell_type": "code",
   "execution_count": 33,
   "metadata": {},
   "outputs": [
    {
     "name": "stdout",
     "output_type": "stream",
     "text": [
      "JavaScript Interviewing for Python Engineers,Tuesday; FEBRUARY 16; 2021,6:00pm - 7:00pm CST\n",
      "Pave Your Pathway: Data Career Paths,Wednesday; FEBRUARY 17; 2021,5:00pm - 6:30pm CST\n",
      "One Epic Networking Prep Session,Wednesday; FEBRUARY 17; 2021,7:00pm - 8:00pm PST\n",
      "Technology Solutions Over the Years,Thursday; FEBRUARY 18; 2021,12:00pm - 1:00pm MST\n",
      "Google Recruitment Webinar and Panel Discussion,Thursday; FEBRUARY 18; 2021,12:00pm - 1:00pm PST\n",
      "Real Talk: Recruiting Brief - Women Candidates,Thursday; FEBRUARY 18; 2021,5:00pm - 6:00pm CST\n",
      "Industry Insights: Behind the Scenes of Employer Referrals,Monday; FEBRUARY 22; 2021,6:00pm - 7:00pm CST\n",
      "The Ultimate Interview Prep Session,Monday; FEBRUARY 22; 2021,6:30pm - 8:00pm PST\n",
      "Technology Project Management - Interview Prep,Tuesday; FEBRUARY 23; 2021,5:00pm - 6:00pm CST\n",
      "FDM Group Recruiting Webinar,Wednesday; FEBRUARY 24; 2021,12:00pm - 1:00pm EST\n",
      "Data Analytics - Interview Prep,Wednesday; FEBRUARY 24; 2021,4:00pm - 5:00pm PST\n",
      "Pave Your Pathway: UX/UI Career Paths,Thursday; FEBRUARY 25; 2021,6:00pm - 7:30pm PST\n",
      "Tech Talk: Careers in Coding,Friday; FEBRUARY 26; 2021,1:00pm - 2:00pm EST\n",
      "Design Patterns for JavaScript,Monday; MARCH 01; 2021,4:00pm - 5:00pm PST\n",
      "Technology Associate Careers with Infosys,Tuesday; MARCH 02; 2021,1:00pm - 2:00pm EST\n",
      "Start HERE: Intro to CS,Tuesday; MARCH 02; 2021,5:00pm - 6:00pm PST\n",
      "Beating the Imposter Syndrome: Conquer Your Search with Confidence,Wednesday; MARCH 03; 2021,5:00pm - 6:00pm CST\n",
      "MongoDB: Your Free On-demand Courses!,Thursday; MARCH 04; 2021,12:00pm - 1:00pm EST\n",
      "Pave Your Pathway: Web Dev + Cybersecurity Career Paths,Thursday; MARCH 04; 2021,6:00pm - 7:30pm CST\n",
      "AI Consultancy Careers with Pandata,Friday; MARCH 05; 2021,12:00pm - 1:00pm EST\n",
      "Strategies for Todayâ€™s Job Search,Monday; MARCH 08; 2021,5:00pm - 6:00pm PST\n",
      "Talking Tech for the FinTech Industry,Tuesday; MARCH 09; 2021,5:00pm - 6:00pm CST\n",
      "Real Talk: Overcoming Age Bias in Your Job Search,Wednesday; MARCH 10; 2021,6:00pm - 7:00pm CST\n",
      "The Ultimate Interview Prep Session,Thursday; MARCH 11; 2021,5:00pm - 6:30pm CST\n",
      "Make Your Time Count - Working With Your Career Director,Monday; MARCH 15; 2021,5:00pm - 6:00pm CDT\n",
      "Talking Tech,Tuesday; MARCH 16; 2021,4:00pm - 5:00pm PDT\n",
      "Hack Your Resume,Thursday; MARCH 18; 2021,5:00pm - 6:00pm PDT\n",
      "The Ultimate Interview Prep Session,Monday; MARCH 22; 2021,5:30pm - 7:00pm PDT\n",
      "Front-End Developm ent Frameworks: React vs. Angular vs. Vue Interview,Tuesday; MARCH 23; 2021,5:30pm - 6:30pm CDT\n",
      "Web Dev - Interview Prep,Wednesday; MARCH 24; 2021,5:00pm - 6:00pm CDT\n",
      "Pave Your Pathway: Digital Marketing + UXUI Career Paths,Thursday; MARCH 25; 2021,5:30pm - 7:00pm PDT\n",
      "Can you handle the truth? Debunking Job Search Myths,Monday; MARCH 29; 2021,4:00pm - 5:00pm PDT\n",
      "Cyber - Interview Prep,Tuesday; MARCH 30; 2021,5:00pm - 6:00pm CDT\n",
      "Big O Notation & Algorithm Efficiency,Wednesday; MARCH 31; 2021,5:00pm - 6:00pm CDT\n",
      "\n"
     ]
    }
   ],
   "source": [
    "\n",
    "# mystr = file.read()\n",
    "newstr = mystr\n",
    "\n",
    "newstr = newstr.replace(\"\\n\\n\",\"===\")\n",
    "newstr = newstr.replace(\"\\n, \\n2021\",\"-2021\")\n",
    "newstr = newstr.replace(\"\\n, \",\"\")\n",
    "newstr = newstr.replace(\"\\n\",\"**\")\n",
    "\n",
    "\n",
    "# newstr = newstr.replace(\"**  **\", \",\")\n",
    "newstr = newstr.replace(\"** - **\", \" - \")\n",
    "newstr = newstr.replace(\"pm \",\"pm\")\n",
    "newstr = newstr.replace(\" **\",\"-\")\n",
    "newstr = newstr.replace(\"**Details**\", \"\\n\")\n",
    "newstr = newstr.replace(\"**Search**\", \"\\n\")\n",
    "newstr = newstr.replace(\"**\", \",\")\n",
    "newstr = newstr.replace(\",Career\", \"Career\")\n",
    "newstr = newstr.replace(\", \", \"; \")\n",
    "\n",
    "newstr = newstr.replace(\"The online events below are crafted to help you move from Employer Ready to Employer Competitive.\",\"\")\n",
    "newstr = newstr.replace(\"All sessions are hosted virtually.\",\"\")\n",
    "newstr = newstr.replace(\"Timezone may vary by session. Check the individual event pages for details.\",\"\")\n",
    "newstr = newstr.replace(\"Recorded Online Events can be found on our YouTube channel.\",\"\")\n",
    "newstr = newstr.replace(\"The events below are for learners of our North American boot camps. If you are located in Europe or Australia; please reach out to your Student Success Manager or Career Manager for details on upcoming engagement opportunities in your region.\",\"\")\n",
    "newstr = newstr.replace(\"Have a topic in mind? Try searching!\",\"\")\n",
    "newstr = newstr.replace(\"Search Hub; Search,Or; looking for opportunities just for you? Select your program below.\",\"\")\n",
    "newstr = newstr.replace(\"IMPORTANT: Selecting a program below will show you events tailored for that program. It will NOT show general opportunities or workshops.\",\"\")\n",
    "newstr = newstr.replace(\"CODINGCYBERSECURITYDATA SCIENCEDIGITAL MARKETINGFINTECHPRODUCT MANAGEMENTTECH PROJECT MANAGEMENTUXUI,\", \"\")\n",
    "\n",
    "\n",
    "\n",
    "\n",
    "newstr = newstr.replace(\"Past Career Services Online Events\", \"\")\n",
    "newstr = newstr.replace(\"Events previously offered by Career Services\", \"\")\n",
    "newstr = newstr.replace(\"Powered by Trilogy Education Services; a 2U; Inc. brand.\", \"\")\n",
    "newstr = newstr.replace(\"Privacy\",\"\")\n",
    "newstr = newstr.replace(\"Terms of Use\",\"\")\n",
    "newstr = newstr.replace(\"Cookie Policy\",\"\")\n",
    "newstr = newstr.replace(\"CONTACT THE ORGANIZER\",\"\")\n",
    "newstr = newstr.replace(\"You are a... Student Alum Industry Professional\",\"\")\n",
    "newstr = newstr.replace(\"Job Seeking Yes No\",\"\")\n",
    "newstr = newstr.replace(\"Employed Yes No\",\"\")\n",
    "newstr = newstr.replace(\"-RSVP,First Name,Last Name,Email Address,You are a...StudentAlumIndustry Professional,University/College of Boot Camp,Program,Class End Date,Job SeekingYesNoEmployedYesNo,Delete (Last Day Of)\",\"\")\n",
    "newstr = newstr.replace(\",===\", \"\")\n",
    "newstr = newstr.replace(\",,,\", \"\")\n",
    "newstr = newstr.replace(\"===\", \"\")\n",
    "newstr = newstr.replace(\"Career Services Online Events\",\"\")\n",
    "newstr = newstr.replace(\"pm\", \"pm \")\n",
    "\n",
    "print(newstr)\n",
    "\n",
    "# line = file.read().replace(\"\\n\", \" \")\n",
    "file.close()\n"
   ]
  },
  {
   "cell_type": "code",
   "execution_count": 34,
   "metadata": {},
   "outputs": [
    {
     "name": "stdout",
     "output_type": "stream",
     "text": [
      "\n",
      "----------------------\n",
      "\n"
     ]
    }
   ],
   "source": [
    "\n",
    "file = open(\"output/output.txt\", 'w')\n",
    "file.write(newstr)\n",
    "file.close()\n",
    "\n",
    "\n",
    "\n",
    "# dframe = pd.read_csv(\"c:/test/newfile.txt\") \n",
    "\n",
    "# # storing this dataframe in a csv file \n",
    "# dframe.to_csv('Online Events.csv',  index = None) \n",
    "\n",
    "\n",
    "print(\"\\n----------------------\\n\")"
   ]
  },
  {
   "cell_type": "code",
   "execution_count": 36,
   "metadata": {},
   "outputs": [],
   "source": [
    "import pandas as pd\n",
    "\n",
    "file1 = open(\"output/output.txt\")\n",
    "In_text = csv.reader(file1, delimiter = ',')\n",
    "\n",
    "df = pd.DataFrame(In_text)\n",
    "df.to_csv(\"output/events.csv\")"
   ]
  },
  {
   "cell_type": "code",
   "execution_count": null,
   "metadata": {},
   "outputs": [],
   "source": []
  }
 ],
 "metadata": {
  "kernelspec": {
   "display_name": "Python 3",
   "language": "python",
   "name": "python3"
  },
  "language_info": {
   "codemirror_mode": {
    "name": "ipython",
    "version": 3
   },
   "file_extension": ".py",
   "mimetype": "text/x-python",
   "name": "python",
   "nbconvert_exporter": "python",
   "pygments_lexer": "ipython3",
   "version": "3.6.10"
  }
 },
 "nbformat": 4,
 "nbformat_minor": 4
}
