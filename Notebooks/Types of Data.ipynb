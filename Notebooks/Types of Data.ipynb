{
 "cells": [
  {
   "cell_type": "markdown",
   "metadata": {},
   "source": [
    "# Types of data\n",
    "\n",
    "## Numerical\n",
    "   - Quantitative measurement, Stock prices etc\n",
    "   - Height of people\n",
    "- ### Discrete \n",
    "    - #### Finite, Integer based, Countable\n",
    "        - How many purchases made per year\n",
    "        - How many times the coin was tossed\n",
    "\n",
    "- ### Continous\n",
    "    - #### Infinite possible values\n",
    "        - How much snow fell last night\n",
    "        - How long did it take the user to checkout\n",
    "\n",
    "## Categorgical\n",
    "   - ### Qualitative\n",
    "       - Gender \n",
    "       - Yes / No\n",
    "       - Product Category\n",
    "       - Race\n",
    "       - State of residence\n",
    "       - Numbers representing cateogries, which has no mathematical meaning\n",
    "\n",
    "## Ordinal\n",
    "- ### Mix of Numerical & Categorical\n",
    "    - #### Categorical data with mathematical meaning\n",
    "        - Star ratings for movies\n",
    "        - Review / feedback"
   ]
  },
  {
   "cell_type": "code",
   "execution_count": null,
   "metadata": {},
   "outputs": [],
   "source": []
  },
  {
   "cell_type": "code",
   "execution_count": null,
   "metadata": {},
   "outputs": [],
   "source": []
  }
 ],
 "metadata": {
  "kernelspec": {
   "display_name": "Python 3",
   "language": "python",
   "name": "python3"
  },
  "language_info": {
   "codemirror_mode": {
    "name": "ipython",
    "version": 3
   },
   "file_extension": ".py",
   "mimetype": "text/x-python",
   "name": "python",
   "nbconvert_exporter": "python",
   "pygments_lexer": "ipython3",
   "version": "3.6.10"
  }
 },
 "nbformat": 4,
 "nbformat_minor": 4
}
