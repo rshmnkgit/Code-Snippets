{
 "cells": [
  {
   "cell_type": "code",
   "execution_count": null,
   "metadata": {},
   "outputs": [],
   "source": [
    "# Add two digits of a given two digit number\n",
    "def addTwoDigits(n):\n",
    "    return n // 10 + n % 10"
   ]
  },
  {
   "cell_type": "code",
   "execution_count": null,
   "metadata": {},
   "outputs": [],
   "source": [
    "# Add all the digits of a given number\n",
    "def addDigits(n):\n",
    "    num = n\n",
    "    dsum = 0\n",
    "    while num>0:\n",
    "        dsum += num % 10\n",
    "        num = num // 10\n",
    "    return dsum"
   ]
  },
  {
   "cell_type": "code",
   "execution_count": null,
   "metadata": {},
   "outputs": [],
   "source": [
    "# Given an integer n, return the largest number that contains exactly n digits.\n",
    "def largestNumber:\n",
    "    return n ** 10 - 1"
   ]
  },
  {
   "cell_type": "code",
   "execution_count": null,
   "metadata": {},
   "outputs": [],
   "source": [
    "# n children have got m pieces of candy. How many pieces of candy will be eaten by all the children together\n",
    "def candies(n, m):\n",
    "    return (m // n) * n"
   ]
  },
  {
   "cell_type": "code",
   "execution_count": null,
   "metadata": {},
   "outputs": [],
   "source": [
    "# Given a divisor and a bound, find the largest integer N such that: \n",
    "# N is divisible by divisor.  N is less than or equal to bound.  N is greater than 0.\n",
    "\n",
    "def maxMultiple(divisor, bound):\n",
    "    q = max([n for n in range(bound+1) if n % divisor == 0])\n",
    "    return q\n",
    "\n",
    "return divisor * (bound // divisor)\n",
    "bound - (bound % divisor)"
   ]
  },
  {
   "cell_type": "code",
   "execution_count": null,
   "metadata": {},
   "outputs": [],
   "source": [
    "# Consider integer numbers from 0 to n - 1 written down along the circle in such a way that the distance \n",
    "# between any two neighboring numbers is equal (note that 0 and n - 1 are neighboring, too).\n",
    "# Given n and firstNumber, find the number which is written in the radially opposite position to firstNumber.\n",
    "# def circleOfNumbers(n, firstNumber):\n",
    "    deg = 360/n \n",
    "    pos = 180/deg\n",
    "    ## pos = 180 / (360/n) = 180 * n /360 = 1/2 *n = n/2\n",
    "    if firstNumber + pos >= n:\n",
    "        return firstNumber+pos - (n)\n",
    "    else:\n",
    "        return firstNumber+pos\n",
    "\n",
    "def circleOfNumbers(n, firstNumber):\n",
    "    pos = n/2\n",
    "    if firstNumber + pos >= n:\n",
    "        return firstNumber+pos - (n)\n",
    "    else:\n",
    "        return firstNumber+pos"
   ]
  },
  {
   "cell_type": "code",
   "execution_count": null,
   "metadata": {},
   "outputs": [],
   "source": []
  }
 ],
 "metadata": {
  "kernelspec": {
   "display_name": "Python 3",
   "language": "python",
   "name": "python3"
  },
  "language_info": {
   "codemirror_mode": {
    "name": "ipython",
    "version": 3
   },
   "file_extension": ".py",
   "mimetype": "text/x-python",
   "name": "python",
   "nbconvert_exporter": "python",
   "pygments_lexer": "ipython3",
   "version": "3.6.10"
  }
 },
 "nbformat": 4,
 "nbformat_minor": 4
}
