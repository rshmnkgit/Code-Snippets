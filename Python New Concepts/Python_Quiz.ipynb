{
 "cells": [
  {
   "cell_type": "code",
   "execution_count": null,
   "metadata": {},
   "outputs": [],
   "source": [
    "# Add two digits of a given two digit number\n",
    "def addTwoDigits(n):\n",
    "    return n // 10 + n % 10"
   ]
  },
  {
   "cell_type": "code",
   "execution_count": null,
   "metadata": {},
   "outputs": [],
   "source": [
    "# Add all the digits of a given number\n",
    "def addDigits(n):\n",
    "    num = n\n",
    "    dsum = 0\n",
    "    while num>0:\n",
    "        dsum += num % 10\n",
    "        num = num // 10\n",
    "    return dsum"
   ]
  },
  {
   "cell_type": "code",
   "execution_count": null,
   "metadata": {},
   "outputs": [],
   "source": [
    "# Given an integer n, return the largest number that contains exactly n digits.\n",
    "def largestNumber:\n",
    "    return n ** 10 - 1"
   ]
  },
  {
   "cell_type": "code",
   "execution_count": null,
   "metadata": {},
   "outputs": [],
   "source": [
    "# n children have got m pieces of candy. How many pieces of candy will be eaten by all the children together\n",
    "def candies(n, m):\n",
    "    return (m // n) * n"
   ]
  },
  {
   "cell_type": "code",
   "execution_count": null,
   "metadata": {},
   "outputs": [],
   "source": []
  }
 ],
 "metadata": {
  "kernelspec": {
   "display_name": "Python 3",
   "language": "python",
   "name": "python3"
  },
  "language_info": {
   "codemirror_mode": {
    "name": "ipython",
    "version": 3
   },
   "file_extension": ".py",
   "mimetype": "text/x-python",
   "name": "python",
   "nbconvert_exporter": "python",
   "pygments_lexer": "ipython3",
   "version": "3.6.10"
  }
 },
 "nbformat": 4,
 "nbformat_minor": 4
}
